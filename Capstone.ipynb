{
 "cells": [
  {
   "cell_type": "markdown",
   "id": "ed04a332",
   "metadata": {},
   "source": [
    "# Predicting Credit Card Default\n",
    "\n",
    "Using data provided by UCI Machine Learning Repository, this notebook will use feature engineering, 3 feature selection methods and 4 different algorithms to predict if a credit card user will default. The data will be split into 3 subsets: training data to train each algorithm, testing data to check the trained model, and validation data which, in practice, will be used to validate the desired model after put into production."
   ]
  },
  {
   "cell_type": "code",
   "execution_count": 1,
   "id": "7b5d0b2c",
   "metadata": {},
   "outputs": [],
   "source": [
    "import numpy as np\n",
    "import matplotlib.pyplot as plt\n",
    "import seaborn as sns\n",
    "import pandas as pd\n",
    "from sklearn import tree\n",
    "from scipy import stats\n",
    "import random\n",
    "from datetime import datetime\n",
    "import beepy as beep\n",
    "from collections import Counter\n",
    "from sklearn.tree import DecisionTreeClassifier, plot_tree\n",
    "from sklearn.ensemble import RandomForestClassifier, GradientBoostingClassifier, ExtraTreesClassifier\n",
    "from sklearn.linear_model import LogisticRegression, LinearRegression\n",
    "from sklearn.preprocessing import StandardScaler\n",
    "from sklearn.model_selection import GridSearchCV, cross_val_score, cross_val_predict,cross_validate\n",
    "from sklearn.model_selection import cross_val_predict, RandomizedSearchCV, StratifiedKFold, train_test_split\n",
    "from sklearn.metrics import confusion_matrix, accuracy_score, precision_score, roc_curve\n",
    "from sklearn.metrics import recall_score, roc_auc_score, classification_report, precision_recall_curve\n",
    "from sklearn.metrics import precision_recall_curve, average_precision_score, ConfusionMatrixDisplay \n",
    "from tabulate import tabulate\n",
    "from sklearn.datasets import make_classification\n",
    "from mlxtend.classifier import OneRClassifier\n",
    "from imblearn.over_sampling import SMOTE, BorderlineSMOTE\n",
    "from imblearn.under_sampling import RandomUnderSampler\n",
    "from imblearn.pipeline import make_pipeline as imbalanced_make_pipeline, Pipeline\n",
    "from sklearn.svm import SVC, LinearSVC\n",
    "from sklearn.model_selection import RepeatedStratifiedKFold\n",
    "from sklearn.feature_selection import RFECV, RFE\n",
    "import statsmodels.api as sm\n",
    "from scikitplot.metrics import plot_lift_curve, plot_roc_curve\n",
    "import warnings\n",
    "warnings.filterwarnings('ignore')"
   ]
  },
  {
   "cell_type": "code",
   "execution_count": 2,
   "id": "3ad3074a",
   "metadata": {
    "scrolled": true
   },
   "outputs": [],
   "source": [
    "# Load Data\n",
    "data=pd.read_csv('credit_card_default.csv')"
   ]
  },
  {
   "cell_type": "code",
   "execution_count": 3,
   "id": "2f4d52d4",
   "metadata": {
    "scrolled": true
   },
   "outputs": [
    {
     "data": {
      "text/html": [
       "<div>\n",
       "<style scoped>\n",
       "    .dataframe tbody tr th:only-of-type {\n",
       "        vertical-align: middle;\n",
       "    }\n",
       "\n",
       "    .dataframe tbody tr th {\n",
       "        vertical-align: top;\n",
       "    }\n",
       "\n",
       "    .dataframe thead th {\n",
       "        text-align: right;\n",
       "    }\n",
       "</style>\n",
       "<table border=\"1\" class=\"dataframe\">\n",
       "  <thead>\n",
       "    <tr style=\"text-align: right;\">\n",
       "      <th></th>\n",
       "      <th>LIMIT_BAL</th>\n",
       "      <th>SEX</th>\n",
       "      <th>EDUCATION</th>\n",
       "      <th>MARRIAGE</th>\n",
       "      <th>AGE</th>\n",
       "      <th>PAY_0</th>\n",
       "      <th>PAY_2</th>\n",
       "      <th>PAY_3</th>\n",
       "      <th>PAY_4</th>\n",
       "      <th>PAY_5</th>\n",
       "      <th>...</th>\n",
       "      <th>BILL_AMT4</th>\n",
       "      <th>BILL_AMT5</th>\n",
       "      <th>BILL_AMT6</th>\n",
       "      <th>PAY_AMT1</th>\n",
       "      <th>PAY_AMT2</th>\n",
       "      <th>PAY_AMT3</th>\n",
       "      <th>PAY_AMT4</th>\n",
       "      <th>PAY_AMT5</th>\n",
       "      <th>PAY_AMT6</th>\n",
       "      <th>DEFAULT</th>\n",
       "    </tr>\n",
       "  </thead>\n",
       "  <tbody>\n",
       "    <tr>\n",
       "      <th>0</th>\n",
       "      <td>20000</td>\n",
       "      <td>2</td>\n",
       "      <td>2</td>\n",
       "      <td>1</td>\n",
       "      <td>24</td>\n",
       "      <td>2</td>\n",
       "      <td>2</td>\n",
       "      <td>-1</td>\n",
       "      <td>-1</td>\n",
       "      <td>-2</td>\n",
       "      <td>...</td>\n",
       "      <td>0</td>\n",
       "      <td>0</td>\n",
       "      <td>0</td>\n",
       "      <td>0</td>\n",
       "      <td>689</td>\n",
       "      <td>0</td>\n",
       "      <td>0</td>\n",
       "      <td>0</td>\n",
       "      <td>0</td>\n",
       "      <td>1</td>\n",
       "    </tr>\n",
       "    <tr>\n",
       "      <th>1</th>\n",
       "      <td>120000</td>\n",
       "      <td>2</td>\n",
       "      <td>2</td>\n",
       "      <td>2</td>\n",
       "      <td>26</td>\n",
       "      <td>-1</td>\n",
       "      <td>2</td>\n",
       "      <td>0</td>\n",
       "      <td>0</td>\n",
       "      <td>0</td>\n",
       "      <td>...</td>\n",
       "      <td>3272</td>\n",
       "      <td>3455</td>\n",
       "      <td>3261</td>\n",
       "      <td>0</td>\n",
       "      <td>1000</td>\n",
       "      <td>1000</td>\n",
       "      <td>1000</td>\n",
       "      <td>0</td>\n",
       "      <td>2000</td>\n",
       "      <td>1</td>\n",
       "    </tr>\n",
       "    <tr>\n",
       "      <th>2</th>\n",
       "      <td>90000</td>\n",
       "      <td>2</td>\n",
       "      <td>2</td>\n",
       "      <td>2</td>\n",
       "      <td>34</td>\n",
       "      <td>0</td>\n",
       "      <td>0</td>\n",
       "      <td>0</td>\n",
       "      <td>0</td>\n",
       "      <td>0</td>\n",
       "      <td>...</td>\n",
       "      <td>14331</td>\n",
       "      <td>14948</td>\n",
       "      <td>15549</td>\n",
       "      <td>1518</td>\n",
       "      <td>1500</td>\n",
       "      <td>1000</td>\n",
       "      <td>1000</td>\n",
       "      <td>1000</td>\n",
       "      <td>5000</td>\n",
       "      <td>0</td>\n",
       "    </tr>\n",
       "    <tr>\n",
       "      <th>3</th>\n",
       "      <td>50000</td>\n",
       "      <td>2</td>\n",
       "      <td>2</td>\n",
       "      <td>1</td>\n",
       "      <td>37</td>\n",
       "      <td>0</td>\n",
       "      <td>0</td>\n",
       "      <td>0</td>\n",
       "      <td>0</td>\n",
       "      <td>0</td>\n",
       "      <td>...</td>\n",
       "      <td>28314</td>\n",
       "      <td>28959</td>\n",
       "      <td>29547</td>\n",
       "      <td>2000</td>\n",
       "      <td>2019</td>\n",
       "      <td>1200</td>\n",
       "      <td>1100</td>\n",
       "      <td>1069</td>\n",
       "      <td>1000</td>\n",
       "      <td>0</td>\n",
       "    </tr>\n",
       "    <tr>\n",
       "      <th>4</th>\n",
       "      <td>50000</td>\n",
       "      <td>1</td>\n",
       "      <td>2</td>\n",
       "      <td>1</td>\n",
       "      <td>57</td>\n",
       "      <td>-1</td>\n",
       "      <td>0</td>\n",
       "      <td>-1</td>\n",
       "      <td>0</td>\n",
       "      <td>0</td>\n",
       "      <td>...</td>\n",
       "      <td>20940</td>\n",
       "      <td>19146</td>\n",
       "      <td>19131</td>\n",
       "      <td>2000</td>\n",
       "      <td>36681</td>\n",
       "      <td>10000</td>\n",
       "      <td>9000</td>\n",
       "      <td>689</td>\n",
       "      <td>679</td>\n",
       "      <td>0</td>\n",
       "    </tr>\n",
       "  </tbody>\n",
       "</table>\n",
       "<p>5 rows × 24 columns</p>\n",
       "</div>"
      ],
      "text/plain": [
       "   LIMIT_BAL  SEX  EDUCATION  MARRIAGE  AGE  PAY_0  PAY_2  PAY_3  PAY_4  \\\n",
       "0      20000    2          2         1   24      2      2     -1     -1   \n",
       "1     120000    2          2         2   26     -1      2      0      0   \n",
       "2      90000    2          2         2   34      0      0      0      0   \n",
       "3      50000    2          2         1   37      0      0      0      0   \n",
       "4      50000    1          2         1   57     -1      0     -1      0   \n",
       "\n",
       "   PAY_5  ...  BILL_AMT4  BILL_AMT5  BILL_AMT6  PAY_AMT1  PAY_AMT2  PAY_AMT3  \\\n",
       "0     -2  ...          0          0          0         0       689         0   \n",
       "1      0  ...       3272       3455       3261         0      1000      1000   \n",
       "2      0  ...      14331      14948      15549      1518      1500      1000   \n",
       "3      0  ...      28314      28959      29547      2000      2019      1200   \n",
       "4      0  ...      20940      19146      19131      2000     36681     10000   \n",
       "\n",
       "   PAY_AMT4  PAY_AMT5  PAY_AMT6  DEFAULT  \n",
       "0         0         0         0        1  \n",
       "1      1000         0      2000        1  \n",
       "2      1000      1000      5000        0  \n",
       "3      1100      1069      1000        0  \n",
       "4      9000       689       679        0  \n",
       "\n",
       "[5 rows x 24 columns]"
      ]
     },
     "execution_count": 3,
     "metadata": {},
     "output_type": "execute_result"
    }
   ],
   "source": [
    "# Remove weird first column and initial analysis columns from the end\n",
    "poplist=(\"Unnamed: 0\",\"ID\",'u','train','test','validate','data.group')\n",
    "for i in poplist:\n",
    "    data.pop(i)\n",
    "data.head()"
   ]
  },
  {
   "cell_type": "code",
   "execution_count": 4,
   "id": "091e5e52",
   "metadata": {},
   "outputs": [
    {
     "data": {
      "text/html": [
       "<div>\n",
       "<style scoped>\n",
       "    .dataframe tbody tr th:only-of-type {\n",
       "        vertical-align: middle;\n",
       "    }\n",
       "\n",
       "    .dataframe tbody tr th {\n",
       "        vertical-align: top;\n",
       "    }\n",
       "\n",
       "    .dataframe thead th {\n",
       "        text-align: right;\n",
       "    }\n",
       "</style>\n",
       "<table border=\"1\" class=\"dataframe\">\n",
       "  <thead>\n",
       "    <tr style=\"text-align: right;\">\n",
       "      <th></th>\n",
       "      <th>Original Variable Name</th>\n",
       "      <th>New Variable Name</th>\n",
       "      <th>Description/Values</th>\n",
       "    </tr>\n",
       "  </thead>\n",
       "  <tbody>\n",
       "    <tr>\n",
       "      <th>0</th>\n",
       "      <td>LIMIT_BAL</td>\n",
       "      <td>N/A</td>\n",
       "      <td>Amount of initial credit given.</td>\n",
       "    </tr>\n",
       "    <tr>\n",
       "      <th>1</th>\n",
       "      <td>SEX</td>\n",
       "      <td>N/A</td>\n",
       "      <td>Gender (1 = male, 2 = female)</td>\n",
       "    </tr>\n",
       "    <tr>\n",
       "      <th>2</th>\n",
       "      <td>EDUCATION</td>\n",
       "      <td>N/A</td>\n",
       "      <td>Highest education level. (1 = Graduate School,...</td>\n",
       "    </tr>\n",
       "    <tr>\n",
       "      <th>3</th>\n",
       "      <td>MARRIAGE</td>\n",
       "      <td>N/A</td>\n",
       "      <td>Marital status (1 = married, 2 = single, 3 = o...</td>\n",
       "    </tr>\n",
       "    <tr>\n",
       "      <th>4</th>\n",
       "      <td>AGE</td>\n",
       "      <td>N/A</td>\n",
       "      <td>Age (year)</td>\n",
       "    </tr>\n",
       "    <tr>\n",
       "      <th>5</th>\n",
       "      <td>PAY_X</td>\n",
       "      <td>PAY_MONTH (PAY_SEPT, etc.)</td>\n",
       "      <td>History of past payment. PAY_1 is the repaymen...</td>\n",
       "    </tr>\n",
       "    <tr>\n",
       "      <th>6</th>\n",
       "      <td>BILL_AMTX</td>\n",
       "      <td>BILL_AMT_MONTH (BILL_AMT_SEPT, etc.)</td>\n",
       "      <td>Amount on bill statement, given in dollars.</td>\n",
       "    </tr>\n",
       "    <tr>\n",
       "      <th>7</th>\n",
       "      <td>PAY_AMTX</td>\n",
       "      <td>PAY_AMT_MONTH (PAY_AMT_MONTH, etc.)</td>\n",
       "      <td>Amount of previous payment, given in dollars.</td>\n",
       "    </tr>\n",
       "    <tr>\n",
       "      <th>8</th>\n",
       "      <td>DEFAULT</td>\n",
       "      <td>N/A</td>\n",
       "      <td>Defaulted on payments (1=Yes, 0=No)</td>\n",
       "    </tr>\n",
       "  </tbody>\n",
       "</table>\n",
       "</div>"
      ],
      "text/plain": [
       "  Original Variable Name                     New Variable Name  \\\n",
       "0              LIMIT_BAL                                   N/A   \n",
       "1                    SEX                                   N/A   \n",
       "2              EDUCATION                                   N/A   \n",
       "3               MARRIAGE                                   N/A   \n",
       "4                    AGE                                   N/A   \n",
       "5                  PAY_X            PAY_MONTH (PAY_SEPT, etc.)   \n",
       "6              BILL_AMTX  BILL_AMT_MONTH (BILL_AMT_SEPT, etc.)   \n",
       "7               PAY_AMTX   PAY_AMT_MONTH (PAY_AMT_MONTH, etc.)   \n",
       "8                DEFAULT                                   N/A   \n",
       "\n",
       "                                  Description/Values  \n",
       "0                    Amount of initial credit given.  \n",
       "1                      Gender (1 = male, 2 = female)  \n",
       "2  Highest education level. (1 = Graduate School,...  \n",
       "3  Marital status (1 = married, 2 = single, 3 = o...  \n",
       "4                                         Age (year)  \n",
       "5  History of past payment. PAY_1 is the repaymen...  \n",
       "6        Amount on bill statement, given in dollars.  \n",
       "7      Amount of previous payment, given in dollars.  \n",
       "8                Defaulted on payments (1=Yes, 0=No)  "
      ]
     },
     "execution_count": 4,
     "metadata": {},
     "output_type": "execute_result"
    }
   ],
   "source": [
    "# Data dictionary of source variables\n",
    "colHeads=(\"Original Variable Name\",\"New Variable Name\",\"Description/Values\")\n",
    "ogVars=[\"LIMIT_BAL\",\"SEX\",\"EDUCATION\",\"MARRIAGE\",\"AGE\",\"PAY_X\",\"BILL_AMTX\",\"PAY_AMTX\",\"DEFAULT\"]\n",
    "nwVars=[\"N/A\",'N/A','N/A','N/A','N/A','PAY_MONTH (PAY_SEPT, etc.)',\n",
    "        'BILL_AMT_MONTH (BILL_AMT_SEPT, etc.)','PAY_AMT_MONTH (PAY_AMT_MONTH, etc.)','N/A']\n",
    "descriptions=['Amount of initial credit given.','Gender (1 = male, 2 = female)',\n",
    "              'Highest education level. (1 = Graduate School, 2 = Undergraduate School, 3 = High school, 4 = other)',\n",
    "             'Marital status (1 = married, 2 = single, 3 = other)','Age (year)',\n",
    "             'History of past payment. PAY_1 is the repayment status for September, PAY_2 is the repayment status for August, etc. -1 means duly paid, 1 mean payment was delayed 1 month, 2= two months delayed, etc.',\n",
    "             'Amount on bill statement, given in dollars.', 'Amount of previous payment, given in dollars.',\n",
    "             'Defaulted on payments (1=Yes, 0=No)']\n",
    "dataTable=pd.DataFrame(data=[ogVars,nwVars,descriptions]).transpose().rename(columns={0:colHeads[0],1:colHeads[1],2:colHeads[2]})\n",
    "dataTable"
   ]
  },
  {
   "cell_type": "code",
   "execution_count": 5,
   "id": "e5eb549f",
   "metadata": {
    "scrolled": false
   },
   "outputs": [
    {
     "data": {
      "text/html": [
       "<div>\n",
       "<style scoped>\n",
       "    .dataframe tbody tr th:only-of-type {\n",
       "        vertical-align: middle;\n",
       "    }\n",
       "\n",
       "    .dataframe tbody tr th {\n",
       "        vertical-align: top;\n",
       "    }\n",
       "\n",
       "    .dataframe thead th {\n",
       "        text-align: right;\n",
       "    }\n",
       "</style>\n",
       "<table border=\"1\" class=\"dataframe\">\n",
       "  <thead>\n",
       "    <tr style=\"text-align: right;\">\n",
       "      <th></th>\n",
       "      <th>LIMIT_BAL</th>\n",
       "      <th>SEX</th>\n",
       "      <th>EDUCATION</th>\n",
       "      <th>MARRIAGE</th>\n",
       "      <th>AGE</th>\n",
       "      <th>PAY_SEPT</th>\n",
       "      <th>PAY_AUG</th>\n",
       "      <th>PAY_JUL</th>\n",
       "      <th>PAY_JUN</th>\n",
       "      <th>PAY_MAY</th>\n",
       "      <th>...</th>\n",
       "      <th>BILL_AMT_JUN</th>\n",
       "      <th>BILL_AMT_MAY</th>\n",
       "      <th>BILL_AMT_APR</th>\n",
       "      <th>PAY_AMT_SEP</th>\n",
       "      <th>PAY_AMT_AUG</th>\n",
       "      <th>PAY_AMT_JUL</th>\n",
       "      <th>PAY_AMT_JUN</th>\n",
       "      <th>PAY_AMT_MAY</th>\n",
       "      <th>PAY_AMT_APR</th>\n",
       "      <th>DEFAULT</th>\n",
       "    </tr>\n",
       "  </thead>\n",
       "  <tbody>\n",
       "    <tr>\n",
       "      <th>0</th>\n",
       "      <td>20000</td>\n",
       "      <td>2</td>\n",
       "      <td>2</td>\n",
       "      <td>1</td>\n",
       "      <td>24</td>\n",
       "      <td>2</td>\n",
       "      <td>2</td>\n",
       "      <td>-1</td>\n",
       "      <td>-1</td>\n",
       "      <td>-2</td>\n",
       "      <td>...</td>\n",
       "      <td>0</td>\n",
       "      <td>0</td>\n",
       "      <td>0</td>\n",
       "      <td>0</td>\n",
       "      <td>689</td>\n",
       "      <td>0</td>\n",
       "      <td>0</td>\n",
       "      <td>0</td>\n",
       "      <td>0</td>\n",
       "      <td>1</td>\n",
       "    </tr>\n",
       "    <tr>\n",
       "      <th>1</th>\n",
       "      <td>120000</td>\n",
       "      <td>2</td>\n",
       "      <td>2</td>\n",
       "      <td>2</td>\n",
       "      <td>26</td>\n",
       "      <td>-1</td>\n",
       "      <td>2</td>\n",
       "      <td>0</td>\n",
       "      <td>0</td>\n",
       "      <td>0</td>\n",
       "      <td>...</td>\n",
       "      <td>3272</td>\n",
       "      <td>3455</td>\n",
       "      <td>3261</td>\n",
       "      <td>0</td>\n",
       "      <td>1000</td>\n",
       "      <td>1000</td>\n",
       "      <td>1000</td>\n",
       "      <td>0</td>\n",
       "      <td>2000</td>\n",
       "      <td>1</td>\n",
       "    </tr>\n",
       "    <tr>\n",
       "      <th>2</th>\n",
       "      <td>90000</td>\n",
       "      <td>2</td>\n",
       "      <td>2</td>\n",
       "      <td>2</td>\n",
       "      <td>34</td>\n",
       "      <td>0</td>\n",
       "      <td>0</td>\n",
       "      <td>0</td>\n",
       "      <td>0</td>\n",
       "      <td>0</td>\n",
       "      <td>...</td>\n",
       "      <td>14331</td>\n",
       "      <td>14948</td>\n",
       "      <td>15549</td>\n",
       "      <td>1518</td>\n",
       "      <td>1500</td>\n",
       "      <td>1000</td>\n",
       "      <td>1000</td>\n",
       "      <td>1000</td>\n",
       "      <td>5000</td>\n",
       "      <td>0</td>\n",
       "    </tr>\n",
       "    <tr>\n",
       "      <th>3</th>\n",
       "      <td>50000</td>\n",
       "      <td>2</td>\n",
       "      <td>2</td>\n",
       "      <td>1</td>\n",
       "      <td>37</td>\n",
       "      <td>0</td>\n",
       "      <td>0</td>\n",
       "      <td>0</td>\n",
       "      <td>0</td>\n",
       "      <td>0</td>\n",
       "      <td>...</td>\n",
       "      <td>28314</td>\n",
       "      <td>28959</td>\n",
       "      <td>29547</td>\n",
       "      <td>2000</td>\n",
       "      <td>2019</td>\n",
       "      <td>1200</td>\n",
       "      <td>1100</td>\n",
       "      <td>1069</td>\n",
       "      <td>1000</td>\n",
       "      <td>0</td>\n",
       "    </tr>\n",
       "    <tr>\n",
       "      <th>4</th>\n",
       "      <td>50000</td>\n",
       "      <td>1</td>\n",
       "      <td>2</td>\n",
       "      <td>1</td>\n",
       "      <td>57</td>\n",
       "      <td>-1</td>\n",
       "      <td>0</td>\n",
       "      <td>-1</td>\n",
       "      <td>0</td>\n",
       "      <td>0</td>\n",
       "      <td>...</td>\n",
       "      <td>20940</td>\n",
       "      <td>19146</td>\n",
       "      <td>19131</td>\n",
       "      <td>2000</td>\n",
       "      <td>36681</td>\n",
       "      <td>10000</td>\n",
       "      <td>9000</td>\n",
       "      <td>689</td>\n",
       "      <td>679</td>\n",
       "      <td>0</td>\n",
       "    </tr>\n",
       "  </tbody>\n",
       "</table>\n",
       "<p>5 rows × 24 columns</p>\n",
       "</div>"
      ],
      "text/plain": [
       "   LIMIT_BAL  SEX  EDUCATION  MARRIAGE  AGE  PAY_SEPT  PAY_AUG  PAY_JUL  \\\n",
       "0      20000    2          2         1   24         2        2       -1   \n",
       "1     120000    2          2         2   26        -1        2        0   \n",
       "2      90000    2          2         2   34         0        0        0   \n",
       "3      50000    2          2         1   37         0        0        0   \n",
       "4      50000    1          2         1   57        -1        0       -1   \n",
       "\n",
       "   PAY_JUN  PAY_MAY  ...  BILL_AMT_JUN  BILL_AMT_MAY  BILL_AMT_APR  \\\n",
       "0       -1       -2  ...             0             0             0   \n",
       "1        0        0  ...          3272          3455          3261   \n",
       "2        0        0  ...         14331         14948         15549   \n",
       "3        0        0  ...         28314         28959         29547   \n",
       "4        0        0  ...         20940         19146         19131   \n",
       "\n",
       "   PAY_AMT_SEP  PAY_AMT_AUG  PAY_AMT_JUL  PAY_AMT_JUN  PAY_AMT_MAY  \\\n",
       "0            0          689            0            0            0   \n",
       "1            0         1000         1000         1000            0   \n",
       "2         1518         1500         1000         1000         1000   \n",
       "3         2000         2019         1200         1100         1069   \n",
       "4         2000        36681        10000         9000          689   \n",
       "\n",
       "   PAY_AMT_APR  DEFAULT  \n",
       "0            0        1  \n",
       "1         2000        1  \n",
       "2         5000        0  \n",
       "3         1000        0  \n",
       "4          679        0  \n",
       "\n",
       "[5 rows x 24 columns]"
      ]
     },
     "execution_count": 5,
     "metadata": {},
     "output_type": "execute_result"
    }
   ],
   "source": [
    "# Rename columns for ease of reading\n",
    "payHist=['PAY_SEPT','PAY_AUG','PAY_JUL','PAY_JUN','PAY_MAY','PAY_APR']\n",
    "billMon=['BILL_AMT_SEP','BILL_AMT_AUG','BILL_AMT_JUL','BILL_AMT_JUN','BILL_AMT_MAY','BILL_AMT_APR']\n",
    "paidMon=['PAY_AMT_SEP','PAY_AMT_AUG','PAY_AMT_JUL','PAY_AMT_JUN','PAY_AMT_MAY','PAY_AMT_APR']\n",
    "ind={'PAY_0':payHist[0],'PAY_2':payHist[1],'PAY_3':payHist[2],\n",
    "     'PAY_4':payHist[3],'PAY_5':payHist[4],'PAY_6':payHist[5],\n",
    "     'BILL_AMT1':billMon[0],'BILL_AMT2':billMon[1],'BILL_AMT3':billMon[2],\n",
    "     'BILL_AMT4':billMon[3],'BILL_AMT5':billMon[4],'BILL_AMT6':billMon[5],\n",
    "     'PAY_AMT1':paidMon[0],'PAY_AMT2':paidMon[1],'PAY_AMT3':paidMon[2],\n",
    "     'PAY_AMT4':paidMon[3],'PAY_AMT5':paidMon[4],'PAY_AMT6':paidMon[5]}\n",
    "data.rename(ind,axis=1,inplace=True)\n",
    "data.head()"
   ]
  },
  {
   "cell_type": "code",
   "execution_count": 6,
   "id": "b8d65089",
   "metadata": {
    "scrolled": false
   },
   "outputs": [
    {
     "data": {
      "image/png": "[encoded data removed]",
      "text/plain": [
       "<Figure size 432x288 with 1 Axes>"
      ]
     },
     "metadata": {
      "needs_background": "light"
     },
     "output_type": "display_data"
    }
   ],
   "source": [
    "# Compare sample size for each binary result\n",
    "sns.countplot(data=data, x='DEFAULT',palette='gist_earth_r')\n",
    "plt.title(\"DEFAULT Result Sample Sizes\")\n",
    "plt.show()"
   ]
  },
  {
   "cell_type": "markdown",
   "id": "4e2be44e",
   "metadata": {},
   "source": [
    "# FIX with oversampling below"
   ]
  },
  {
   "cell_type": "markdown",
   "id": "dc22e0d4",
   "metadata": {},
   "source": [
    "Based on the plot above, there is a heavy skew of non-defaulting (DEFAULT=0) data points. We will correct this by using oversampling on the default (DEFAULT=1)."
   ]
  },
  {
   "cell_type": "code",
   "execution_count": 7,
   "id": "1ccd6118",
   "metadata": {},
   "outputs": [],
   "source": [
    "# Oversampling\n",
    "labels=data['DEFAULT']\n",
    "dataDF=data.drop(['DEFAULT'], axis=1)\n",
    "oversample=SMOTE(random_state=1234)\n",
    "dxX, dyy = oversample.fit_resample(dataDF, labels)"
   ]
  },
  {
   "cell_type": "code",
   "execution_count": 8,
   "id": "cc18d701",
   "metadata": {},
   "outputs": [
    {
     "data": {
      "text/html": [
       "<div>\n",
       "<style scoped>\n",
       "    .dataframe tbody tr th:only-of-type {\n",
       "        vertical-align: middle;\n",
       "    }\n",
       "\n",
       "    .dataframe tbody tr th {\n",
       "        vertical-align: top;\n",
       "    }\n",
       "\n",
       "    .dataframe thead th {\n",
       "        text-align: right;\n",
       "    }\n",
       "</style>\n",
       "<table border=\"1\" class=\"dataframe\">\n",
       "  <thead>\n",
       "    <tr style=\"text-align: right;\">\n",
       "      <th></th>\n",
       "      <th>LIMIT_BAL</th>\n",
       "      <th>SEX</th>\n",
       "      <th>EDUCATION</th>\n",
       "      <th>MARRIAGE</th>\n",
       "      <th>AGE</th>\n",
       "      <th>PAY_SEPT</th>\n",
       "      <th>PAY_AUG</th>\n",
       "      <th>PAY_JUL</th>\n",
       "      <th>PAY_JUN</th>\n",
       "      <th>PAY_MAY</th>\n",
       "      <th>...</th>\n",
       "      <th>BILL_AMT_JUN</th>\n",
       "      <th>BILL_AMT_MAY</th>\n",
       "      <th>BILL_AMT_APR</th>\n",
       "      <th>PAY_AMT_SEP</th>\n",
       "      <th>PAY_AMT_AUG</th>\n",
       "      <th>PAY_AMT_JUL</th>\n",
       "      <th>PAY_AMT_JUN</th>\n",
       "      <th>PAY_AMT_MAY</th>\n",
       "      <th>PAY_AMT_APR</th>\n",
       "      <th>DEFAULT</th>\n",
       "    </tr>\n",
       "  </thead>\n",
       "  <tbody>\n",
       "    <tr>\n",
       "      <th>0</th>\n",
       "      <td>20000</td>\n",
       "      <td>2</td>\n",
       "      <td>2</td>\n",
       "      <td>1</td>\n",
       "      <td>24</td>\n",
       "      <td>2</td>\n",
       "      <td>2</td>\n",
       "      <td>-1</td>\n",
       "      <td>-1</td>\n",
       "      <td>-2</td>\n",
       "      <td>...</td>\n",
       "      <td>0</td>\n",
       "      <td>0</td>\n",
       "      <td>0</td>\n",
       "      <td>0</td>\n",
       "      <td>689</td>\n",
       "      <td>0</td>\n",
       "      <td>0</td>\n",
       "      <td>0</td>\n",
       "      <td>0</td>\n",
       "      <td>1</td>\n",
       "    </tr>\n",
       "    <tr>\n",
       "      <th>1</th>\n",
       "      <td>120000</td>\n",
       "      <td>2</td>\n",
       "      <td>2</td>\n",
       "      <td>2</td>\n",
       "      <td>26</td>\n",
       "      <td>-1</td>\n",
       "      <td>2</td>\n",
       "      <td>0</td>\n",
       "      <td>0</td>\n",
       "      <td>0</td>\n",
       "      <td>...</td>\n",
       "      <td>3272</td>\n",
       "      <td>3455</td>\n",
       "      <td>3261</td>\n",
       "      <td>0</td>\n",
       "      <td>1000</td>\n",
       "      <td>1000</td>\n",
       "      <td>1000</td>\n",
       "      <td>0</td>\n",
       "      <td>2000</td>\n",
       "      <td>1</td>\n",
       "    </tr>\n",
       "    <tr>\n",
       "      <th>2</th>\n",
       "      <td>90000</td>\n",
       "      <td>2</td>\n",
       "      <td>2</td>\n",
       "      <td>2</td>\n",
       "      <td>34</td>\n",
       "      <td>0</td>\n",
       "      <td>0</td>\n",
       "      <td>0</td>\n",
       "      <td>0</td>\n",
       "      <td>0</td>\n",
       "      <td>...</td>\n",
       "      <td>14331</td>\n",
       "      <td>14948</td>\n",
       "      <td>15549</td>\n",
       "      <td>1518</td>\n",
       "      <td>1500</td>\n",
       "      <td>1000</td>\n",
       "      <td>1000</td>\n",
       "      <td>1000</td>\n",
       "      <td>5000</td>\n",
       "      <td>0</td>\n",
       "    </tr>\n",
       "    <tr>\n",
       "      <th>3</th>\n",
       "      <td>50000</td>\n",
       "      <td>2</td>\n",
       "      <td>2</td>\n",
       "      <td>1</td>\n",
       "      <td>37</td>\n",
       "      <td>0</td>\n",
       "      <td>0</td>\n",
       "      <td>0</td>\n",
       "      <td>0</td>\n",
       "      <td>0</td>\n",
       "      <td>...</td>\n",
       "      <td>28314</td>\n",
       "      <td>28959</td>\n",
       "      <td>29547</td>\n",
       "      <td>2000</td>\n",
       "      <td>2019</td>\n",
       "      <td>1200</td>\n",
       "      <td>1100</td>\n",
       "      <td>1069</td>\n",
       "      <td>1000</td>\n",
       "      <td>0</td>\n",
       "    </tr>\n",
       "    <tr>\n",
       "      <th>4</th>\n",
       "      <td>50000</td>\n",
       "      <td>1</td>\n",
       "      <td>2</td>\n",
       "      <td>1</td>\n",
       "      <td>57</td>\n",
       "      <td>-1</td>\n",
       "      <td>0</td>\n",
       "      <td>-1</td>\n",
       "      <td>0</td>\n",
       "      <td>0</td>\n",
       "      <td>...</td>\n",
       "      <td>20940</td>\n",
       "      <td>19146</td>\n",
       "      <td>19131</td>\n",
       "      <td>2000</td>\n",
       "      <td>36681</td>\n",
       "      <td>10000</td>\n",
       "      <td>9000</td>\n",
       "      <td>689</td>\n",
       "      <td>679</td>\n",
       "      <td>0</td>\n",
       "    </tr>\n",
       "    <tr>\n",
       "      <th>...</th>\n",
       "      <td>...</td>\n",
       "      <td>...</td>\n",
       "      <td>...</td>\n",
       "      <td>...</td>\n",
       "      <td>...</td>\n",
       "      <td>...</td>\n",
       "      <td>...</td>\n",
       "      <td>...</td>\n",
       "      <td>...</td>\n",
       "      <td>...</td>\n",
       "      <td>...</td>\n",
       "      <td>...</td>\n",
       "      <td>...</td>\n",
       "      <td>...</td>\n",
       "      <td>...</td>\n",
       "      <td>...</td>\n",
       "      <td>...</td>\n",
       "      <td>...</td>\n",
       "      <td>...</td>\n",
       "      <td>...</td>\n",
       "      <td>...</td>\n",
       "    </tr>\n",
       "    <tr>\n",
       "      <th>46723</th>\n",
       "      <td>10000</td>\n",
       "      <td>1</td>\n",
       "      <td>2</td>\n",
       "      <td>1</td>\n",
       "      <td>29</td>\n",
       "      <td>1</td>\n",
       "      <td>1</td>\n",
       "      <td>2</td>\n",
       "      <td>0</td>\n",
       "      <td>0</td>\n",
       "      <td>...</td>\n",
       "      <td>9307</td>\n",
       "      <td>10084</td>\n",
       "      <td>10119</td>\n",
       "      <td>2394</td>\n",
       "      <td>0</td>\n",
       "      <td>1018</td>\n",
       "      <td>918</td>\n",
       "      <td>338</td>\n",
       "      <td>0</td>\n",
       "      <td>1</td>\n",
       "    </tr>\n",
       "    <tr>\n",
       "      <th>46724</th>\n",
       "      <td>120000</td>\n",
       "      <td>2</td>\n",
       "      <td>1</td>\n",
       "      <td>2</td>\n",
       "      <td>25</td>\n",
       "      <td>0</td>\n",
       "      <td>-1</td>\n",
       "      <td>-2</td>\n",
       "      <td>-2</td>\n",
       "      <td>-2</td>\n",
       "      <td>...</td>\n",
       "      <td>0</td>\n",
       "      <td>0</td>\n",
       "      <td>0</td>\n",
       "      <td>0</td>\n",
       "      <td>0</td>\n",
       "      <td>0</td>\n",
       "      <td>0</td>\n",
       "      <td>0</td>\n",
       "      <td>0</td>\n",
       "      <td>1</td>\n",
       "    </tr>\n",
       "    <tr>\n",
       "      <th>46725</th>\n",
       "      <td>150000</td>\n",
       "      <td>2</td>\n",
       "      <td>1</td>\n",
       "      <td>1</td>\n",
       "      <td>38</td>\n",
       "      <td>-1</td>\n",
       "      <td>-1</td>\n",
       "      <td>-2</td>\n",
       "      <td>-2</td>\n",
       "      <td>-2</td>\n",
       "      <td>...</td>\n",
       "      <td>0</td>\n",
       "      <td>0</td>\n",
       "      <td>1639</td>\n",
       "      <td>0</td>\n",
       "      <td>0</td>\n",
       "      <td>0</td>\n",
       "      <td>0</td>\n",
       "      <td>1639</td>\n",
       "      <td>10464</td>\n",
       "      <td>1</td>\n",
       "    </tr>\n",
       "    <tr>\n",
       "      <th>46726</th>\n",
       "      <td>50000</td>\n",
       "      <td>1</td>\n",
       "      <td>2</td>\n",
       "      <td>1</td>\n",
       "      <td>35</td>\n",
       "      <td>2</td>\n",
       "      <td>0</td>\n",
       "      <td>0</td>\n",
       "      <td>0</td>\n",
       "      <td>0</td>\n",
       "      <td>...</td>\n",
       "      <td>11919</td>\n",
       "      <td>2712</td>\n",
       "      <td>4951</td>\n",
       "      <td>1796</td>\n",
       "      <td>1446</td>\n",
       "      <td>1054</td>\n",
       "      <td>378</td>\n",
       "      <td>89</td>\n",
       "      <td>247</td>\n",
       "      <td>1</td>\n",
       "    </tr>\n",
       "    <tr>\n",
       "      <th>46727</th>\n",
       "      <td>100000</td>\n",
       "      <td>2</td>\n",
       "      <td>1</td>\n",
       "      <td>1</td>\n",
       "      <td>26</td>\n",
       "      <td>1</td>\n",
       "      <td>2</td>\n",
       "      <td>0</td>\n",
       "      <td>0</td>\n",
       "      <td>0</td>\n",
       "      <td>...</td>\n",
       "      <td>78110</td>\n",
       "      <td>78334</td>\n",
       "      <td>72423</td>\n",
       "      <td>0</td>\n",
       "      <td>3449</td>\n",
       "      <td>3012</td>\n",
       "      <td>2846</td>\n",
       "      <td>2648</td>\n",
       "      <td>2522</td>\n",
       "      <td>1</td>\n",
       "    </tr>\n",
       "  </tbody>\n",
       "</table>\n",
       "<p>46728 rows × 24 columns</p>\n",
       "</div>"
      ],
      "text/plain": [
       "       LIMIT_BAL  SEX  EDUCATION  MARRIAGE  AGE  PAY_SEPT  PAY_AUG  PAY_JUL  \\\n",
       "0          20000    2          2         1   24         2        2       -1   \n",
       "1         120000    2          2         2   26        -1        2        0   \n",
       "2          90000    2          2         2   34         0        0        0   \n",
       "3          50000    2          2         1   37         0        0        0   \n",
       "4          50000    1          2         1   57        -1        0       -1   \n",
       "...          ...  ...        ...       ...  ...       ...      ...      ...   \n",
       "46723      10000    1          2         1   29         1        1        2   \n",
       "46724     120000    2          1         2   25         0       -1       -2   \n",
       "46725     150000    2          1         1   38        -1       -1       -2   \n",
       "46726      50000    1          2         1   35         2        0        0   \n",
       "46727     100000    2          1         1   26         1        2        0   \n",
       "\n",
       "       PAY_JUN  PAY_MAY  ...  BILL_AMT_JUN  BILL_AMT_MAY  BILL_AMT_APR  \\\n",
       "0           -1       -2  ...             0             0             0   \n",
       "1            0        0  ...          3272          3455          3261   \n",
       "2            0        0  ...         14331         14948         15549   \n",
       "3            0        0  ...         28314         28959         29547   \n",
       "4            0        0  ...         20940         19146         19131   \n",
       "...        ...      ...  ...           ...           ...           ...   \n",
       "46723        0        0  ...          9307         10084         10119   \n",
       "46724       -2       -2  ...             0             0             0   \n",
       "46725       -2       -2  ...             0             0          1639   \n",
       "46726        0        0  ...         11919          2712          4951   \n",
       "46727        0        0  ...         78110         78334         72423   \n",
       "\n",
       "       PAY_AMT_SEP  PAY_AMT_AUG  PAY_AMT_JUL  PAY_AMT_JUN  PAY_AMT_MAY  \\\n",
       "0                0          689            0            0            0   \n",
       "1                0         1000         1000         1000            0   \n",
       "2             1518         1500         1000         1000         1000   \n",
       "3             2000         2019         1200         1100         1069   \n",
       "4             2000        36681        10000         9000          689   \n",
       "...            ...          ...          ...          ...          ...   \n",
       "46723         2394            0         1018          918          338   \n",
       "46724            0            0            0            0            0   \n",
       "46725            0            0            0            0         1639   \n",
       "46726         1796         1446         1054          378           89   \n",
       "46727            0         3449         3012         2846         2648   \n",
       "\n",
       "       PAY_AMT_APR  DEFAULT  \n",
       "0                0        1  \n",
       "1             2000        1  \n",
       "2             5000        0  \n",
       "3             1000        0  \n",
       "4              679        0  \n",
       "...            ...      ...  \n",
       "46723            0        1  \n",
       "46724            0        1  \n",
       "46725        10464        1  \n",
       "46726          247        1  \n",
       "46727         2522        1  \n",
       "\n",
       "[46728 rows x 24 columns]"
      ]
     },
     "execution_count": 8,
     "metadata": {},
     "output_type": "execute_result"
    }
   ],
   "source": [
    "data=dxX\n",
    "data['DEFAULT']=dyy\n",
    "data"
   ]
  },
  {
   "cell_type": "code",
   "execution_count": 9,
   "id": "771068a9",
   "metadata": {},
   "outputs": [
    {
     "data": {
      "image/png": "[encoded data removed]",
      "text/plain": [
       "<Figure size 432x288 with 1 Axes>"
      ]
     },
     "metadata": {
      "needs_background": "light"
     },
     "output_type": "display_data"
    }
   ],
   "source": [
    "# Confirm oversampling functioned as normal\n",
    "sns.countplot(data=data, x='DEFAULT',palette='gist_earth_r')\n",
    "plt.title(\"DEFAULT Result Sample Sizes\")\n",
    "plt.show()"
   ]
  },
  {
   "cell_type": "code",
   "execution_count": 10,
   "id": "550ed5d5",
   "metadata": {},
   "outputs": [],
   "source": [
    "# Creating dictionaries to apply statistical functions to orginial data set for EDA\n",
    "payDict={}\n",
    "bilDict={}\n",
    "pmtDict={}\n",
    "cols=['SEX','EDUCATION','MARRIAGE','AGE','DEFAULT']\n",
    "colDict={'EDUCATION':['value_counts'],\n",
    "         'MARRIAGE':['value_counts'],\n",
    "         'SEX':['value_counts'],\n",
    "         'DEFAULT':['value_counts']}\n",
    "for i in range(6):\n",
    "    payDict[payHist[i]]=[\"mean\",\"std\",\"min\",\"max\"]\n",
    "    bilDict[billMon[i]]=[\"mean\",\"std\",\"min\",\"max\"]\n",
    "    pmtDict[paidMon[i]]=[\"mean\",\"std\",\"min\",\"max\"]"
   ]
  },
  {
   "cell_type": "code",
   "execution_count": 11,
   "id": "b34832e2",
   "metadata": {
    "scrolled": false
   },
   "outputs": [
    {
     "data": {
      "text/plain": [
       "count    46728.000000\n",
       "mean        35.411894\n",
       "std          8.840663\n",
       "min         21.000000\n",
       "25%         28.000000\n",
       "50%         34.000000\n",
       "75%         41.000000\n",
       "max         79.000000\n",
       "Name: AGE, dtype: float64"
      ]
     },
     "execution_count": 11,
     "metadata": {},
     "output_type": "execute_result"
    },
    {
     "data": {
      "image/png": "[encoded data removed]",
      "text/plain": [
       "<Figure size 432x288 with 1 Axes>"
      ]
     },
     "metadata": {
      "needs_background": "light"
     },
     "output_type": "display_data"
    }
   ],
   "source": [
    "# Age data\n",
    "sns.boxplot(data['AGE'], palette='gist_earth_r')\n",
    "plt.title(\"Boxplot of Ages\")\n",
    "data['AGE'].describe()"
   ]
  },
  {
   "cell_type": "code",
   "execution_count": 12,
   "id": "e4ff306b",
   "metadata": {
    "scrolled": false
   },
   "outputs": [
    {
     "data": {
      "text/html": [
       "<div>\n",
       "<style scoped>\n",
       "    .dataframe tbody tr th:only-of-type {\n",
       "        vertical-align: middle;\n",
       "    }\n",
       "\n",
       "    .dataframe tbody tr th {\n",
       "        vertical-align: top;\n",
       "    }\n",
       "\n",
       "    .dataframe thead tr th {\n",
       "        text-align: left;\n",
       "    }\n",
       "</style>\n",
       "<table border=\"1\" class=\"dataframe\">\n",
       "  <thead>\n",
       "    <tr>\n",
       "      <th></th>\n",
       "      <th>EDUCATION</th>\n",
       "      <th>MARRIAGE</th>\n",
       "      <th>SEX</th>\n",
       "      <th>DEFAULT</th>\n",
       "    </tr>\n",
       "    <tr>\n",
       "      <th></th>\n",
       "      <th>value_counts</th>\n",
       "      <th>value_counts</th>\n",
       "      <th>value_counts</th>\n",
       "      <th>value_counts</th>\n",
       "    </tr>\n",
       "  </thead>\n",
       "  <tbody>\n",
       "    <tr>\n",
       "      <th>0</th>\n",
       "      <td>14</td>\n",
       "      <td>70.0</td>\n",
       "      <td>NaN</td>\n",
       "      <td>23364.0</td>\n",
       "    </tr>\n",
       "    <tr>\n",
       "      <th>1</th>\n",
       "      <td>17967</td>\n",
       "      <td>25614.0</td>\n",
       "      <td>23102.0</td>\n",
       "      <td>23364.0</td>\n",
       "    </tr>\n",
       "    <tr>\n",
       "      <th>2</th>\n",
       "      <td>22622</td>\n",
       "      <td>20714.0</td>\n",
       "      <td>23626.0</td>\n",
       "      <td>NaN</td>\n",
       "    </tr>\n",
       "    <tr>\n",
       "      <th>3</th>\n",
       "      <td>5637</td>\n",
       "      <td>330.0</td>\n",
       "      <td>NaN</td>\n",
       "      <td>NaN</td>\n",
       "    </tr>\n",
       "    <tr>\n",
       "      <th>4</th>\n",
       "      <td>152</td>\n",
       "      <td>NaN</td>\n",
       "      <td>NaN</td>\n",
       "      <td>NaN</td>\n",
       "    </tr>\n",
       "    <tr>\n",
       "      <th>5</th>\n",
       "      <td>285</td>\n",
       "      <td>NaN</td>\n",
       "      <td>NaN</td>\n",
       "      <td>NaN</td>\n",
       "    </tr>\n",
       "    <tr>\n",
       "      <th>6</th>\n",
       "      <td>51</td>\n",
       "      <td>NaN</td>\n",
       "      <td>NaN</td>\n",
       "      <td>NaN</td>\n",
       "    </tr>\n",
       "  </tbody>\n",
       "</table>\n",
       "</div>"
      ],
      "text/plain": [
       "     EDUCATION     MARRIAGE          SEX      DEFAULT\n",
       "  value_counts value_counts value_counts value_counts\n",
       "0           14         70.0          NaN      23364.0\n",
       "1        17967      25614.0      23102.0      23364.0\n",
       "2        22622      20714.0      23626.0          NaN\n",
       "3         5637        330.0          NaN          NaN\n",
       "4          152          NaN          NaN          NaN\n",
       "5          285          NaN          NaN          NaN\n",
       "6           51          NaN          NaN          NaN"
      ]
     },
     "execution_count": 12,
     "metadata": {},
     "output_type": "execute_result"
    }
   ],
   "source": [
    "# Catgegorical data summaries + Verify Default data oversampling counts\n",
    "dfDataCols=data[cols].apply(colDict)\n",
    "dfDataCols"
   ]
  },
  {
   "cell_type": "code",
   "execution_count": 13,
   "id": "1d029c3a",
   "metadata": {},
   "outputs": [
    {
     "data": {
      "text/html": [
       "<div>\n",
       "<style scoped>\n",
       "    .dataframe tbody tr th:only-of-type {\n",
       "        vertical-align: middle;\n",
       "    }\n",
       "\n",
       "    .dataframe tbody tr th {\n",
       "        vertical-align: top;\n",
       "    }\n",
       "\n",
       "    .dataframe thead tr th {\n",
       "        text-align: left;\n",
       "    }\n",
       "</style>\n",
       "<table border=\"1\" class=\"dataframe\">\n",
       "  <thead>\n",
       "    <tr>\n",
       "      <th></th>\n",
       "      <th>PAY_SEPT</th>\n",
       "      <th>PAY_AUG</th>\n",
       "      <th>PAY_JUL</th>\n",
       "      <th>PAY_JUN</th>\n",
       "      <th>PAY_MAY</th>\n",
       "      <th>PAY_APR</th>\n",
       "    </tr>\n",
       "    <tr>\n",
       "      <th></th>\n",
       "      <th>value_counts</th>\n",
       "      <th>value_counts</th>\n",
       "      <th>value_counts</th>\n",
       "      <th>value_counts</th>\n",
       "      <th>value_counts</th>\n",
       "      <th>value_counts</th>\n",
       "    </tr>\n",
       "  </thead>\n",
       "  <tbody>\n",
       "    <tr>\n",
       "      <th>-2</th>\n",
       "      <td>3013</td>\n",
       "      <td>4791</td>\n",
       "      <td>5270</td>\n",
       "      <td>5645</td>\n",
       "      <td>5964</td>\n",
       "      <td>6466</td>\n",
       "    </tr>\n",
       "    <tr>\n",
       "      <th>-1</th>\n",
       "      <td>7637</td>\n",
       "      <td>8329</td>\n",
       "      <td>8240</td>\n",
       "      <td>8015</td>\n",
       "      <td>7818</td>\n",
       "      <td>8267</td>\n",
       "    </tr>\n",
       "    <tr>\n",
       "      <th>0</th>\n",
       "      <td>21829</td>\n",
       "      <td>22958</td>\n",
       "      <td>23452</td>\n",
       "      <td>24770</td>\n",
       "      <td>25727</td>\n",
       "      <td>24820</td>\n",
       "    </tr>\n",
       "    <tr>\n",
       "      <th>1</th>\n",
       "      <td>8149</td>\n",
       "      <td>2679</td>\n",
       "      <td>2470</td>\n",
       "      <td>2159</td>\n",
       "      <td>1962</td>\n",
       "      <td>1918</td>\n",
       "    </tr>\n",
       "    <tr>\n",
       "      <th>2</th>\n",
       "      <td>5348</td>\n",
       "      <td>7243</td>\n",
       "      <td>6628</td>\n",
       "      <td>5449</td>\n",
       "      <td>4577</td>\n",
       "      <td>4625</td>\n",
       "    </tr>\n",
       "    <tr>\n",
       "      <th>3</th>\n",
       "      <td>533</td>\n",
       "      <td>480</td>\n",
       "      <td>391</td>\n",
       "      <td>334</td>\n",
       "      <td>338</td>\n",
       "      <td>325</td>\n",
       "    </tr>\n",
       "    <tr>\n",
       "      <th>4</th>\n",
       "      <td>110</td>\n",
       "      <td>155</td>\n",
       "      <td>132</td>\n",
       "      <td>132</td>\n",
       "      <td>140</td>\n",
       "      <td>103</td>\n",
       "    </tr>\n",
       "    <tr>\n",
       "      <th>5</th>\n",
       "      <td>47</td>\n",
       "      <td>45</td>\n",
       "      <td>59</td>\n",
       "      <td>50</td>\n",
       "      <td>30</td>\n",
       "      <td>27</td>\n",
       "    </tr>\n",
       "    <tr>\n",
       "      <th>6</th>\n",
       "      <td>21</td>\n",
       "      <td>27</td>\n",
       "      <td>40</td>\n",
       "      <td>17</td>\n",
       "      <td>17</td>\n",
       "      <td>46</td>\n",
       "    </tr>\n",
       "    <tr>\n",
       "      <th>7</th>\n",
       "      <td>22</td>\n",
       "      <td>20</td>\n",
       "      <td>43</td>\n",
       "      <td>155</td>\n",
       "      <td>154</td>\n",
       "      <td>129</td>\n",
       "    </tr>\n",
       "    <tr>\n",
       "      <th>8</th>\n",
       "      <td>19</td>\n",
       "      <td>1</td>\n",
       "      <td>3</td>\n",
       "      <td>2</td>\n",
       "      <td>1</td>\n",
       "      <td>2</td>\n",
       "    </tr>\n",
       "  </tbody>\n",
       "</table>\n",
       "</div>"
      ],
      "text/plain": [
       "       PAY_SEPT      PAY_AUG      PAY_JUL      PAY_JUN      PAY_MAY  \\\n",
       "   value_counts value_counts value_counts value_counts value_counts   \n",
       "-2         3013         4791         5270         5645         5964   \n",
       "-1         7637         8329         8240         8015         7818   \n",
       " 0        21829        22958        23452        24770        25727   \n",
       " 1         8149         2679         2470         2159         1962   \n",
       " 2         5348         7243         6628         5449         4577   \n",
       " 3          533          480          391          334          338   \n",
       " 4          110          155          132          132          140   \n",
       " 5           47           45           59           50           30   \n",
       " 6           21           27           40           17           17   \n",
       " 7           22           20           43          155          154   \n",
       " 8           19            1            3            2            1   \n",
       "\n",
       "        PAY_APR  \n",
       "   value_counts  \n",
       "-2         6466  \n",
       "-1         8267  \n",
       " 0        24820  \n",
       " 1         1918  \n",
       " 2         4625  \n",
       " 3          325  \n",
       " 4          103  \n",
       " 5           27  \n",
       " 6           46  \n",
       " 7          129  \n",
       " 8            2  "
      ]
     },
     "execution_count": 13,
     "metadata": {},
     "output_type": "execute_result"
    }
   ],
   "source": [
    "# Dictionary to neatly summarize value counts of payment status in each month\n",
    "paymntdict={'PAY_SEPT':['value_counts'], 'PAY_AUG':['value_counts'], 'PAY_JUL':['value_counts'], \n",
    "            'PAY_JUN':['value_counts'], 'PAY_MAY':['value_counts'], 'PAY_APR':['value_counts']}\n",
    "dfHist=data[payHist].apply(paymntdict)\n",
    "dfHist"
   ]
  },
  {
   "cell_type": "code",
   "execution_count": 14,
   "id": "ad691abb",
   "metadata": {
    "scrolled": false
   },
   "outputs": [
    {
     "data": {
      "text/html": [
       "<div>\n",
       "<style scoped>\n",
       "    .dataframe tbody tr th:only-of-type {\n",
       "        vertical-align: middle;\n",
       "    }\n",
       "\n",
       "    .dataframe tbody tr th {\n",
       "        vertical-align: top;\n",
       "    }\n",
       "\n",
       "    .dataframe thead th {\n",
       "        text-align: right;\n",
       "    }\n",
       "</style>\n",
       "<table border=\"1\" class=\"dataframe\">\n",
       "  <thead>\n",
       "    <tr style=\"text-align: right;\">\n",
       "      <th></th>\n",
       "      <th>PAY_SEPT</th>\n",
       "      <th>PAY_AUG</th>\n",
       "      <th>PAY_JUL</th>\n",
       "      <th>PAY_JUN</th>\n",
       "      <th>PAY_MAY</th>\n",
       "      <th>PAY_APR</th>\n",
       "    </tr>\n",
       "  </thead>\n",
       "  <tbody>\n",
       "    <tr>\n",
       "      <th>mean</th>\n",
       "      <td>0.17</td>\n",
       "      <td>0.04</td>\n",
       "      <td>-0.01</td>\n",
       "      <td>-0.07</td>\n",
       "      <td>-0.12</td>\n",
       "      <td>-0.16</td>\n",
       "    </tr>\n",
       "    <tr>\n",
       "      <th>std</th>\n",
       "      <td>1.12</td>\n",
       "      <td>1.22</td>\n",
       "      <td>1.22</td>\n",
       "      <td>1.22</td>\n",
       "      <td>1.18</td>\n",
       "      <td>1.20</td>\n",
       "    </tr>\n",
       "    <tr>\n",
       "      <th>min</th>\n",
       "      <td>-2.00</td>\n",
       "      <td>-2.00</td>\n",
       "      <td>-2.00</td>\n",
       "      <td>-2.00</td>\n",
       "      <td>-2.00</td>\n",
       "      <td>-2.00</td>\n",
       "    </tr>\n",
       "    <tr>\n",
       "      <th>max</th>\n",
       "      <td>8.00</td>\n",
       "      <td>8.00</td>\n",
       "      <td>8.00</td>\n",
       "      <td>8.00</td>\n",
       "      <td>8.00</td>\n",
       "      <td>8.00</td>\n",
       "    </tr>\n",
       "  </tbody>\n",
       "</table>\n",
       "</div>"
      ],
      "text/plain": [
       "      PAY_SEPT  PAY_AUG  PAY_JUL  PAY_JUN  PAY_MAY  PAY_APR\n",
       "mean      0.17     0.04    -0.01    -0.07    -0.12    -0.16\n",
       "std       1.12     1.22     1.22     1.22     1.18     1.20\n",
       "min      -2.00    -2.00    -2.00    -2.00    -2.00    -2.00\n",
       "max       8.00     8.00     8.00     8.00     8.00     8.00"
      ]
     },
     "execution_count": 14,
     "metadata": {},
     "output_type": "execute_result"
    }
   ],
   "source": [
    "# Stats on payment history status\n",
    "dfPayd=round(data[payHist].apply(payDict),2)\n",
    "dfPayd"
   ]
  },
  {
   "cell_type": "code",
   "execution_count": 15,
   "id": "1e574df1",
   "metadata": {},
   "outputs": [
    {
     "data": {
      "text/html": [
       "<div>\n",
       "<style scoped>\n",
       "    .dataframe tbody tr th:only-of-type {\n",
       "        vertical-align: middle;\n",
       "    }\n",
       "\n",
       "    .dataframe tbody tr th {\n",
       "        vertical-align: top;\n",
       "    }\n",
       "\n",
       "    .dataframe thead th {\n",
       "        text-align: right;\n",
       "    }\n",
       "</style>\n",
       "<table border=\"1\" class=\"dataframe\">\n",
       "  <thead>\n",
       "    <tr style=\"text-align: right;\">\n",
       "      <th></th>\n",
       "      <th>BILL_AMT_SEP</th>\n",
       "      <th>BILL_AMT_AUG</th>\n",
       "      <th>BILL_AMT_JUL</th>\n",
       "      <th>BILL_AMT_JUN</th>\n",
       "      <th>BILL_AMT_MAY</th>\n",
       "      <th>BILL_AMT_APR</th>\n",
       "    </tr>\n",
       "  </thead>\n",
       "  <tbody>\n",
       "    <tr>\n",
       "      <th>mean</th>\n",
       "      <td>50083.40</td>\n",
       "      <td>48406.62</td>\n",
       "      <td>46220.02</td>\n",
       "      <td>42703.22</td>\n",
       "      <td>39929.10</td>\n",
       "      <td>38689.27</td>\n",
       "    </tr>\n",
       "    <tr>\n",
       "      <th>std</th>\n",
       "      <td>73050.18</td>\n",
       "      <td>70930.46</td>\n",
       "      <td>68528.83</td>\n",
       "      <td>63880.98</td>\n",
       "      <td>60629.09</td>\n",
       "      <td>59359.21</td>\n",
       "    </tr>\n",
       "    <tr>\n",
       "      <th>min</th>\n",
       "      <td>-165580.00</td>\n",
       "      <td>-69777.00</td>\n",
       "      <td>-157264.00</td>\n",
       "      <td>-170000.00</td>\n",
       "      <td>-81334.00</td>\n",
       "      <td>-339603.00</td>\n",
       "    </tr>\n",
       "    <tr>\n",
       "      <th>max</th>\n",
       "      <td>964511.00</td>\n",
       "      <td>983931.00</td>\n",
       "      <td>1664089.00</td>\n",
       "      <td>891586.00</td>\n",
       "      <td>927171.00</td>\n",
       "      <td>961664.00</td>\n",
       "    </tr>\n",
       "  </tbody>\n",
       "</table>\n",
       "</div>"
      ],
      "text/plain": [
       "      BILL_AMT_SEP  BILL_AMT_AUG  BILL_AMT_JUL  BILL_AMT_JUN  BILL_AMT_MAY  \\\n",
       "mean      50083.40      48406.62      46220.02      42703.22      39929.10   \n",
       "std       73050.18      70930.46      68528.83      63880.98      60629.09   \n",
       "min     -165580.00     -69777.00    -157264.00    -170000.00     -81334.00   \n",
       "max      964511.00     983931.00    1664089.00     891586.00     927171.00   \n",
       "\n",
       "      BILL_AMT_APR  \n",
       "mean      38689.27  \n",
       "std       59359.21  \n",
       "min     -339603.00  \n",
       "max      961664.00  "
      ]
     },
     "execution_count": 15,
     "metadata": {},
     "output_type": "execute_result"
    }
   ],
   "source": [
    "# Stats on billed amount per month\n",
    "dfBilld=round(data[billMon].apply(bilDict),2)\n",
    "dfBilld"
   ]
  },
  {
   "cell_type": "code",
   "execution_count": 16,
   "id": "e7cee9fa",
   "metadata": {},
   "outputs": [
    {
     "data": {
      "text/html": [
       "<div>\n",
       "<style scoped>\n",
       "    .dataframe tbody tr th:only-of-type {\n",
       "        vertical-align: middle;\n",
       "    }\n",
       "\n",
       "    .dataframe tbody tr th {\n",
       "        vertical-align: top;\n",
       "    }\n",
       "\n",
       "    .dataframe thead th {\n",
       "        text-align: right;\n",
       "    }\n",
       "</style>\n",
       "<table border=\"1\" class=\"dataframe\">\n",
       "  <thead>\n",
       "    <tr style=\"text-align: right;\">\n",
       "      <th></th>\n",
       "      <th>PAY_AMT_SEP</th>\n",
       "      <th>PAY_AMT_AUG</th>\n",
       "      <th>PAY_AMT_JUL</th>\n",
       "      <th>PAY_AMT_JUN</th>\n",
       "      <th>PAY_AMT_MAY</th>\n",
       "      <th>PAY_AMT_APR</th>\n",
       "    </tr>\n",
       "  </thead>\n",
       "  <tbody>\n",
       "    <tr>\n",
       "      <th>mean</th>\n",
       "      <td>4746.69</td>\n",
       "      <td>4872.34</td>\n",
       "      <td>4447.29</td>\n",
       "      <td>4055.1</td>\n",
       "      <td>4096.86</td>\n",
       "      <td>4416.32</td>\n",
       "    </tr>\n",
       "    <tr>\n",
       "      <th>std</th>\n",
       "      <td>14055.35</td>\n",
       "      <td>19040.27</td>\n",
       "      <td>15605.35</td>\n",
       "      <td>13347.0</td>\n",
       "      <td>13350.95</td>\n",
       "      <td>15606.07</td>\n",
       "    </tr>\n",
       "    <tr>\n",
       "      <th>min</th>\n",
       "      <td>0.00</td>\n",
       "      <td>0.00</td>\n",
       "      <td>0.00</td>\n",
       "      <td>0.0</td>\n",
       "      <td>0.00</td>\n",
       "      <td>0.00</td>\n",
       "    </tr>\n",
       "    <tr>\n",
       "      <th>max</th>\n",
       "      <td>873552.00</td>\n",
       "      <td>1684259.00</td>\n",
       "      <td>896040.00</td>\n",
       "      <td>621000.0</td>\n",
       "      <td>426529.00</td>\n",
       "      <td>528666.00</td>\n",
       "    </tr>\n",
       "  </tbody>\n",
       "</table>\n",
       "</div>"
      ],
      "text/plain": [
       "      PAY_AMT_SEP  PAY_AMT_AUG  PAY_AMT_JUL  PAY_AMT_JUN  PAY_AMT_MAY  \\\n",
       "mean      4746.69      4872.34      4447.29       4055.1      4096.86   \n",
       "std      14055.35     19040.27     15605.35      13347.0     13350.95   \n",
       "min          0.00         0.00         0.00          0.0         0.00   \n",
       "max     873552.00   1684259.00    896040.00     621000.0    426529.00   \n",
       "\n",
       "      PAY_AMT_APR  \n",
       "mean      4416.32  \n",
       "std      15606.07  \n",
       "min          0.00  \n",
       "max     528666.00  "
      ]
     },
     "execution_count": 16,
     "metadata": {},
     "output_type": "execute_result"
    }
   ],
   "source": [
    "# Stats on paid amount per month\n",
    "dfMonPaid=round(data[paidMon].apply(pmtDict),2)\n",
    "dfMonPaid"
   ]
  },
  {
   "cell_type": "code",
   "execution_count": 17,
   "id": "ea6f2bdf",
   "metadata": {},
   "outputs": [],
   "source": [
    "# Settings adjustmnet\n",
    "pd.set_option('display.max_columns',None)"
   ]
  },
  {
   "cell_type": "code",
   "execution_count": 18,
   "id": "0dde0b26",
   "metadata": {},
   "outputs": [],
   "source": [
    "# Create binned amounts to eliminate errors from source data + bin ages\n",
    "binned=['MarriageBin','EducationBin','AgeBin']\n",
    "marBin=[]\n",
    "eduBin=[]\n",
    "ageBin=[]\n",
    "for i in range(len(data)):\n",
    "    marr=data['MARRIAGE'][i]\n",
    "    educ=data['EDUCATION'][i]\n",
    "    ages=data['AGE'][i]\n",
    "    if marr==0 or marr>3:\n",
    "        marBin.append(3)\n",
    "    else:\n",
    "        marBin.append(marr)\n",
    "    if educ>4 or educ==0:\n",
    "        eduBin.append(4)\n",
    "    else:\n",
    "        eduBin.append(educ)\n",
    "    if ages<=34:\n",
    "        ageBin.append(1)\n",
    "    elif ages>=35 and ages<=49:\n",
    "        ageBin.append(2)\n",
    "    elif ages>=50 and ages<=64:\n",
    "        ageBin.append(3)\n",
    "    else:\n",
    "        ageBin.append(4)\n",
    "\n",
    "        \n",
    "data.insert(len(data.columns),\"Marriage_Bin\",marBin,True)\n",
    "data.insert(len(data.columns),\"Education_Bin\",eduBin,True)\n",
    "data.insert(len(data.columns),\"Age_Bin\",ageBin,True)"
   ]
  },
  {
   "cell_type": "markdown",
   "id": "63a4456c",
   "metadata": {},
   "source": [
    "### Feature engineering"
   ]
  },
  {
   "cell_type": "code",
   "execution_count": 19,
   "id": "d2368205",
   "metadata": {
    "scrolled": true
   },
   "outputs": [],
   "source": [
    "# Average bill amount and average payment made\n",
    "billDF=[]\n",
    "for i in range(len(data)):\n",
    "    totalBill=0\n",
    "    for j in billMon:\n",
    "        totalBill+=data[j][i]\n",
    "    avgBill=totalBill/6\n",
    "    billDF.append(avgBill)\n",
    "payDF=[]\n",
    "for i in range(len(data)):\n",
    "    totalPaid=0\n",
    "    for j in paidMon:\n",
    "        totalPaid+=data[j][i]\n",
    "    avgPay=totalPaid/6\n",
    "    payDF.append(avgPay)\n",
    "\n",
    "data.insert(len(data.columns),\"Avg_Bill_Amt\",billDF,True)\n",
    "data.insert(len(data.columns),\"Avg_Pmt_Amt\",payDF,True)"
   ]
  },
  {
   "cell_type": "code",
   "execution_count": 20,
   "id": "f9a6a671",
   "metadata": {
    "scrolled": false
   },
   "outputs": [],
   "source": [
    "# Pay Ratio\n",
    "payRatio = ('AugPayRat','JulPayRat','JunPayRat','MayPayRat','AprPayRat')\n",
    "for i, j, l in zip(billMon[1:], payRatio, paidMon[:-1]):\n",
    "    df=[]\n",
    "    for k in range(len(data)):\n",
    "        pay=data[l][k]\n",
    "        bal=data[i][k]\n",
    "        if pay==0 and bal==0:\n",
    "            G=1\n",
    "        elif pay!=0 and bal==0:\n",
    "            G=1\n",
    "        else:\n",
    "            G=pay/bal\n",
    "        df.append(G)\n",
    "    data.insert(len(data.columns),j,df,True)\n",
    "\n",
    "avgPRdf=[]\n",
    "for i in range(len(data)):\n",
    "    totalPR=0\n",
    "    for j in payRatio:\n",
    "        totalPR+=data[j][i]\n",
    "    avgPR=totalPR/5\n",
    "    avgPRdf.append(avgPR)\n",
    "data.insert(len(data.columns),'Avg_Pmt_Ratio',avgPRdf,True)"
   ]
  },
  {
   "cell_type": "code",
   "execution_count": 21,
   "id": "134cc2e0",
   "metadata": {},
   "outputs": [],
   "source": [
    "# Utilization\n",
    "monthlyUtilize = ('SeptUtil','AugUtil','JulUtil','JunUtil','MayUtil','AprUtil')\n",
    "for i, j in zip(billMon, monthlyUtilize):\n",
    "    df=[]\n",
    "    for k in range(len(data)):\n",
    "        df.append((data[i][k]/data['LIMIT_BAL'][k]))\n",
    "    data.insert(len(data.columns),j,df,True)\n",
    "utilDF=[]\n",
    "for i in range(len(data)):\n",
    "    totalUtil=0\n",
    "    for j in monthlyUtilize:\n",
    "        totalUtil+=data[j][i]\n",
    "    avgUtil=totalUtil/6\n",
    "    utilDF.append(avgUtil)\n",
    "data.insert(len(data.columns),'Avg_Util',utilDF,True)"
   ]
  },
  {
   "cell_type": "code",
   "execution_count": 22,
   "id": "6e15bc3e",
   "metadata": {},
   "outputs": [],
   "source": [
    "# 6 month growth\n",
    "balGrow=[]\n",
    "utilGrow=[]\n",
    "for i in range(len(data)):\n",
    "    septBill=data['BILL_AMT_SEP'][i]\n",
    "    aprBill =data['BILL_AMT_APR'][i]\n",
    "    if septBill==0 and aprBill==0:\n",
    "        balGrow.append(1)\n",
    "    elif septBill!=0 and aprBill==0:\n",
    "        balGrow.append(septBill)\n",
    "    else:\n",
    "        balGrow.append((septBill-aprBill)/aprBill)\n",
    "for i in range(len(data)):\n",
    "    septUtil=data['SeptUtil'][i]\n",
    "    aprUtil =data['AprUtil'][i]\n",
    "    if septUtil==0 and aprUtil==0:\n",
    "        utilGrow.append(1)\n",
    "    elif septUtil!=0 and aprUtil==0:\n",
    "        utilGrow.append(septUtil)\n",
    "    else:\n",
    "        utilGrow.append((septUtil-aprUtil)/aprUtil)\n",
    "data.insert(len(data.columns),'Bal_Growth_6mo',balGrow,True)\n",
    "data.insert(len(data.columns),'Util_Growth_6mo',utilGrow,True)"
   ]
  },
  {
   "cell_type": "code",
   "execution_count": 23,
   "id": "fd047f57",
   "metadata": {},
   "outputs": [],
   "source": [
    "# Largest Bill\n",
    "bigBill=data[billMon].max(axis=1)\n",
    "data.insert(len(data.columns),'Max_Bill_Amt',bigBill,True)"
   ]
  },
  {
   "cell_type": "code",
   "execution_count": 24,
   "id": "4c8e2032",
   "metadata": {},
   "outputs": [],
   "source": [
    "# Largest Payment\n",
    "bigPaid=data[paidMon].max(axis=1)\n",
    "data.insert(len(data.columns),'Max_Pmt_Amt',bigPaid,True)"
   ]
  },
  {
   "cell_type": "code",
   "execution_count": 25,
   "id": "e45c5ec4",
   "metadata": {},
   "outputs": [],
   "source": [
    "# Ratio between largest payment and bill\n",
    "numerator=bigPaid\n",
    "denominator=bigBill\n",
    "X=[]\n",
    "for num, den in zip(numerator, denominator):\n",
    "    if num == 0 and den == 0:\n",
    "        X.append(1)\n",
    "    elif num != 0 and den == 0:\n",
    "        X.append(num)\n",
    "    else:\n",
    "        X.append(num/den)\n",
    "bigRatio=X\n",
    "data.insert(len(data.columns),'Max_Ratio',bigRatio,True)"
   ]
  },
  {
   "cell_type": "code",
   "execution_count": 26,
   "id": "1da1a511",
   "metadata": {},
   "outputs": [],
   "source": [
    "# Max delinquency of payment\n",
    "maxDLQ=data[payHist].max(axis=1)\n",
    "for i in range(len(maxDLQ)):\n",
    "    if maxDLQ[i]<0:\n",
    "        maxDLQ[i]=0\n",
    "data.insert(len(data.columns),'Max_DLQ',maxDLQ,True)"
   ]
  },
  {
   "cell_type": "code",
   "execution_count": 27,
   "id": "19671646",
   "metadata": {},
   "outputs": [],
   "source": [
    "# Utilization change\n",
    "crntUtil=data['SeptUtil']\n",
    "utils=['SeptUtil','AugUtil','JulUtil','JunUtil','MayUtil','AprUtil',]\n",
    "minUtil=data[utils].min(axis=1)\n",
    "utilDelta=crntUtil-minUtil\n",
    "data.insert(len(data.columns),'Util_Delta',utilDelta,True)"
   ]
  },
  {
   "cell_type": "code",
   "execution_count": 28,
   "id": "d5a897a4",
   "metadata": {},
   "outputs": [],
   "source": [
    "# sept bill-bal limit\n",
    "debt=data['LIMIT_BAL']-data['BILL_AMT_SEP']\n",
    "data.insert(len(data.columns),'Amt_Left',debt,True)"
   ]
  },
  {
   "cell_type": "markdown",
   "id": "7ebaf36b",
   "metadata": {},
   "source": [
    "# Split into train,test,validate"
   ]
  },
  {
   "cell_type": "code",
   "execution_count": 29,
   "id": "ac183244",
   "metadata": {
    "scrolled": true
   },
   "outputs": [],
   "source": [
    "random.seed(1234)\n",
    "train=[]\n",
    "test=[]\n",
    "validate=[]\n",
    "for i in range(len(data)):\n",
    "    x=random.random()\n",
    "    if x<.7:\n",
    "        train.append(1)\n",
    "        test.append(0)\n",
    "        validate.append(0)\n",
    "    elif x>=.7 and x<.9:\n",
    "        train.append(0)\n",
    "        test.append(1)\n",
    "        validate.append(0)\n",
    "    else:\n",
    "        train.append(0)\n",
    "        test.append(0)\n",
    "        validate.append(1)\n",
    "data.insert(len(data.columns),'train',train,True)\n",
    "data.insert(len(data.columns),'test',test,True)\n",
    "data.insert(len(data.columns),'validate',validate,True)"
   ]
  },
  {
   "cell_type": "code",
   "execution_count": 30,
   "id": "685172b6",
   "metadata": {
    "scrolled": true
   },
   "outputs": [
    {
     "name": "stdout",
     "output_type": "stream",
     "text": [
      "-----------------------------\n",
      "['train', 'test', 'validate']\n",
      "[70.11, 19.9302, 9.9598]\n",
      "-----------------------------\n"
     ]
    }
   ],
   "source": [
    "# Subset percent split\n",
    "hdrs=['train','test','validate']\n",
    "x=[]\n",
    "for i in hdrs:\n",
    "    x.append(round((data[i]==1).sum()/len(data)*100,4))\n",
    "mydata=[[hdrs],[x]]\n",
    "print(tabulate(mydata))"
   ]
  },
  {
   "cell_type": "code",
   "execution_count": 31,
   "id": "52bec737",
   "metadata": {},
   "outputs": [],
   "source": [
    "## Split data sets\n",
    "train=data[data['train']==1]\n",
    "test=data[data['test']==1]\n",
    "validate=data[data['validate']==1]\n",
    "\n",
    "## drop test, train, validate  variables\n",
    "train=train.drop(['AGE','EDUCATION','MARRIAGE','train','test','validate'],axis=1)\n",
    "test=test.drop(['AGE','EDUCATION','MARRIAGE','train','test','validate'],axis=1)\n",
    "validate=validate.drop(['AGE','EDUCATION','MARRIAGE','train','test','validate'],axis=1)"
   ]
  },
  {
   "cell_type": "code",
   "execution_count": 32,
   "id": "da0c931e",
   "metadata": {},
   "outputs": [],
   "source": [
    "# pop Default\n",
    "colList=payHist+billMon+paidMon\n",
    "trainDefault=train['DEFAULT']\n",
    "train=train.drop(columns=colList)\n",
    "testDefault=test['DEFAULT']\n",
    "test=test.drop(columns=colList)\n",
    "validateDefault=validate['DEFAULT']\n",
    "validate=validate.drop(columns=colList)"
   ]
  },
  {
   "cell_type": "markdown",
   "id": "5c0601a9",
   "metadata": {},
   "source": [
    "# Traditional EDA"
   ]
  },
  {
   "cell_type": "code",
   "execution_count": 33,
   "id": "9414cca5",
   "metadata": {},
   "outputs": [],
   "source": [
    "# Repeatable bar plot function for EDA\n",
    "def barstack(X):\n",
    "    varName=[X,\"DEFAULT\"]\n",
    "    df=train[varName]\n",
    "    plot=sns.countplot(data=df,x=X,hue='DEFAULT',palette='gist_earth_r')\n",
    "    plt.title(X+' Stacked Barplot')\n",
    "    return plot"
   ]
  },
  {
   "cell_type": "code",
   "execution_count": 34,
   "id": "dcd573e1",
   "metadata": {},
   "outputs": [],
   "source": [
    "# Repeatable box plot function for EDA\n",
    "def edaBox(X,lm=(None,None)):\n",
    "    plot=sns.boxplot(data=train,y=X,x=\"DEFAULT\", hue=\"DEFAULT\",palette='gist_earth_r')\n",
    "    plt.ylim(lm)\n",
    "    plt.title(X+' Box Plot')\n",
    "    return plot"
   ]
  },
  {
   "cell_type": "code",
   "execution_count": 35,
   "id": "1b4993cc",
   "metadata": {},
   "outputs": [],
   "source": [
    "# Repeatable stats table function for EDA\n",
    "def stats(X):\n",
    "    df0=train[train[\"DEFAULT\"]==0]\n",
    "    df1=train[train[\"DEFAULT\"]==1]\n",
    "    head=['Default','Mean','STD','Median','Min','Max']\n",
    "    ddf0={\"Default\":0,\n",
    "          \"Mean\": np.mean(df0[X]),\n",
    "          \"STD\" : np.std(df0[X]),\n",
    "          \"Median\" : np.median(df0[X]),\n",
    "          \"Min\" : np.min(df0[X]),\n",
    "          \"Max\" : np.max(df0[X])}\n",
    "    ddf1={\"Default\":1,\n",
    "          \"Mean\": np.mean(df1[X]),\n",
    "          \"STD\" : np.std(df1[X]),\n",
    "          \"Median\" : np.median(df1[X]),\n",
    "          \"Min\" : np.min(df1[X]),\n",
    "          \"Max\" : np.max(df1[X])}\n",
    "    df=pd.DataFrame(data=[ddf0,ddf1])\n",
    "    tbl=df\n",
    "    print(tabulate(df,headers=head,tablefmt='grid',floatfmt=\".2f\"))\n",
    "    return tbl\n",
    "    # mean, std, median, min, max, PER DEFAULT SCORE"
   ]
  },
  {
   "cell_type": "code",
   "execution_count": 36,
   "id": "29f52d3c",
   "metadata": {},
   "outputs": [
    {
     "data": {
      "image/png": "[encoded data removed]",
      "text/plain": [
       "<Figure size 432x288 with 1 Axes>"
      ]
     },
     "metadata": {
      "needs_background": "light"
     },
     "output_type": "display_data"
    }
   ],
   "source": [
    "marBin=barstack('Marriage_Bin')"
   ]
  },
  {
   "cell_type": "code",
   "execution_count": 37,
   "id": "073000c1",
   "metadata": {},
   "outputs": [
    {
     "data": {
      "image/png": "[encoded data removed]",
      "text/plain": [
       "<Figure size 432x288 with 1 Axes>"
      ]
     },
     "metadata": {
      "needs_background": "light"
     },
     "output_type": "display_data"
    }
   ],
   "source": [
    "eduBin=barstack('Education_Bin')"
   ]
  },
  {
   "cell_type": "code",
   "execution_count": 38,
   "id": "3e9bf8d6",
   "metadata": {},
   "outputs": [
    {
     "name": "stdout",
     "output_type": "stream",
     "text": [
      "+----+-----------+---------+----------+----------+------------+-----------+\n",
      "|    |   Default |    Mean |      STD |   Median |        Min |       Max |\n",
      "+====+===========+=========+==========+==========+============+===========+\n",
      "|  0 |      0.00 | 2344.29 | 15049.46 |     0.22 | -108098.00 | 388897.00 |\n",
      "+----+-----------+---------+----------+----------+------------+-----------+\n",
      "|  1 |      1.00 | 1112.86 |  9504.55 |     0.00 |  -31250.93 | 279846.00 |\n",
      "+----+-----------+---------+----------+----------+------------+-----------+\n"
     ]
    }
   ],
   "source": [
    "# 6 month Balance growth stats tables by default status\n",
    "BG6=stats('Bal_Growth_6mo')"
   ]
  },
  {
   "cell_type": "code",
   "execution_count": 39,
   "id": "1ca20d54",
   "metadata": {},
   "outputs": [
    {
     "data": {
      "image/png": "[encoded data removed]",
      "text/plain": [
       "<Figure size 432x288 with 1 Axes>"
      ]
     },
     "metadata": {
      "needs_background": "light"
     },
     "output_type": "display_data"
    }
   ],
   "source": [
    "# Utilization growth over 6 months by default status\n",
    "UtilGrow6=edaBox('Util_Growth_6mo', (-5,10))"
   ]
  },
  {
   "cell_type": "code",
   "execution_count": 40,
   "id": "ec53ad84",
   "metadata": {
    "scrolled": false
   },
   "outputs": [
    {
     "name": "stdout",
     "output_type": "stream",
     "text": [
      "+----+-----------+--------+---------+----------+------------+----------+\n",
      "|    |   Default |   Mean |     STD |   Median |        Min |      Max |\n",
      "+====+===========+========+=========+==========+============+==========+\n",
      "|  0 |      0.00 | -30.66 | 1274.75 |     0.09 | -108098.00 | 15678.00 |\n",
      "+----+-----------+--------+---------+----------+------------+----------+\n",
      "|  1 |      1.00 |  -3.52 |  357.95 |     0.00 |  -31250.93 |  4940.00 |\n",
      "+----+-----------+--------+---------+----------+------------+----------+\n"
     ]
    }
   ],
   "source": [
    "# Utilization growth over 6 months by default status (Stats table)\n",
    "UG6=stats('Util_Growth_6mo')"
   ]
  },
  {
   "cell_type": "code",
   "execution_count": 41,
   "id": "53eeb38b",
   "metadata": {
    "scrolled": true
   },
   "outputs": [
    {
     "name": "stdout",
     "output_type": "stream",
     "text": [
      "+----+-----------+--------+--------+----------+-----------+---------+\n",
      "|    |   Default |   Mean |    STD |   Median |       Min |     Max |\n",
      "+====+===========+========+========+==========+===========+=========+\n",
      "|  0 |      0.00 |  -0.64 | 128.63 |     0.23 | -16429.80 | 1005.40 |\n",
      "+----+-----------+--------+--------+----------+-----------+---------+\n",
      "|  1 |      1.00 |   0.27 |   6.55 |     0.07 |   -788.56 |  138.41 |\n",
      "+----+-----------+--------+--------+----------+-----------+---------+\n"
     ]
    }
   ],
   "source": [
    "# Average payment ratio stats table \n",
    "APR=stats(\"Avg_Pmt_Ratio\")"
   ]
  },
  {
   "cell_type": "code",
   "execution_count": 42,
   "id": "f2f4212d",
   "metadata": {},
   "outputs": [
    {
     "name": "stdout",
     "output_type": "stream",
     "text": [
      "+----+-----------+---------+----------+----------+-------+-----------+\n",
      "|    |   Default |    Mean |      STD |   Median |   Min |       Max |\n",
      "+====+===========+=========+==========+==========+=======+===========+\n",
      "|  0 |      0.00 | 5695.08 | 10066.45 |  2708.00 |  0.00 | 385692.00 |\n",
      "+----+-----------+---------+----------+----------+-------+-----------+\n",
      "|  1 |      1.00 | 3048.89 |  5315.46 |  1555.00 |  0.00 | 117368.00 |\n",
      "+----+-----------+---------+----------+----------+-------+-----------+\n"
     ]
    }
   ],
   "source": [
    "# Average payment amount stats table\n",
    "APA=stats(\"Avg_Pmt_Amt\")"
   ]
  },
  {
   "cell_type": "code",
   "execution_count": 43,
   "id": "2fd81a61",
   "metadata": {},
   "outputs": [
    {
     "data": {
      "image/png": "[encoded data removed]",
      "text/plain": [
       "<Figure size 432x288 with 1 Axes>"
      ]
     },
     "metadata": {
      "needs_background": "light"
     },
     "output_type": "display_data"
    }
   ],
   "source": [
    "# Average payment amount box plot by default status\n",
    "APAplt=edaBox(\"Avg_Pmt_Amt\",(-1000,30000))"
   ]
  },
  {
   "cell_type": "code",
   "execution_count": 44,
   "id": "2120f06d",
   "metadata": {
    "scrolled": false
   },
   "outputs": [
    {
     "data": {
      "image/png": "[encoded data removed]",
      "text/plain": [
       "<Figure size 432x288 with 1 Axes>"
      ]
     },
     "metadata": {
      "needs_background": "light"
     },
     "output_type": "display_data"
    }
   ],
   "source": [
    "# Average utilization by default status box plot\n",
    "AvgUtil=edaBox(\"Avg_Util\",(-1,3))"
   ]
  },
  {
   "cell_type": "code",
   "execution_count": 45,
   "id": "eb6da56a",
   "metadata": {},
   "outputs": [
    {
     "name": "stdout",
     "output_type": "stream",
     "text": [
      "+----+-----------+--------+-------+----------+-------+-------+\n",
      "|    |   Default |   Mean |   STD |   Median |   Min |   Max |\n",
      "+====+===========+========+=======+==========+=======+=======+\n",
      "|  0 |      0.00 |   0.35 |  0.34 |     0.24 | -0.23 |  2.39 |\n",
      "+----+-----------+--------+-------+----------+-------+-------+\n",
      "|  1 |      1.00 |   0.45 |  0.37 |     0.46 | -0.20 |  2.64 |\n",
      "+----+-----------+--------+-------+----------+-------+-------+\n"
     ]
    }
   ],
   "source": [
    "# Average utilization stats table\n",
    "AVGutil=stats(\"Avg_Util\")"
   ]
  },
  {
   "cell_type": "code",
   "execution_count": 46,
   "id": "7bef9912",
   "metadata": {
    "scrolled": true
   },
   "outputs": [
    {
     "data": {
      "image/png": "[encoded data removed]",
      "text/plain": [
       "<Figure size 432x288 with 1 Axes>"
      ]
     },
     "metadata": {
      "needs_background": "light"
     },
     "output_type": "display_data"
    }
   ],
   "source": [
    "# Largest bill amount box plot\n",
    "MBA=edaBox(\"Max_Bill_Amt\",(-10000,200000))"
   ]
  },
  {
   "cell_type": "code",
   "execution_count": 47,
   "id": "7c29f0ee",
   "metadata": {},
   "outputs": [
    {
     "name": "stdout",
     "output_type": "stream",
     "text": [
      "+----+-----------+----------+----------+----------+----------+------------+\n",
      "|    |   Default |     Mean |      STD |   Median |      Min |        Max |\n",
      "+====+===========+==========+==========+==========+==========+============+\n",
      "|  0 |      0.00 | 61290.82 | 77680.24 | 33290.00 | -4300.00 | 1664089.00 |\n",
      "+----+-----------+----------+----------+----------+----------+------------+\n",
      "|  1 |      1.00 | 53125.24 | 74194.18 | 26399.00 | -6029.00 |  610723.00 |\n",
      "+----+-----------+----------+----------+----------+----------+------------+\n"
     ]
    }
   ],
   "source": [
    "# Largest bill amount stats table \n",
    "MBAstat=stats(\"Max_Bill_Amt\")"
   ]
  },
  {
   "cell_type": "code",
   "execution_count": 48,
   "id": "bd16df90",
   "metadata": {},
   "outputs": [
    {
     "data": {
      "image/png": "[encoded data removed]",
      "text/plain": [
       "<Figure size 432x288 with 1 Axes>"
      ]
     },
     "metadata": {
      "needs_background": "light"
     },
     "output_type": "display_data"
    }
   ],
   "source": [
    "# Max bill/max paid ratio box plot\n",
    "mxRat=edaBox('Max_Ratio')"
   ]
  },
  {
   "cell_type": "code",
   "execution_count": 49,
   "id": "0b8165fd",
   "metadata": {},
   "outputs": [
    {
     "name": "stdout",
     "output_type": "stream",
     "text": [
      "+----+-----------+--------+---------+----------+---------+-----------+\n",
      "|    |   Default |   Mean |     STD |   Median |     Min |       Max |\n",
      "+====+===========+========+=========+==========+=========+===========+\n",
      "|  0 |      0.00 |  28.74 | 1566.48 |     0.21 | -470.00 | 162000.00 |\n",
      "+----+-----------+--------+---------+----------+---------+-----------+\n",
      "|  1 |      1.00 |   3.56 |  101.92 |     0.12 | -117.78 |   7700.00 |\n",
      "+----+-----------+--------+---------+----------+---------+-----------+\n"
     ]
    }
   ],
   "source": [
    "# Max bill/max paid ratio box plot\n",
    "MXR=stats('Max_Ratio')"
   ]
  },
  {
   "cell_type": "code",
   "execution_count": 50,
   "id": "e5b0b13b",
   "metadata": {
    "scrolled": true
   },
   "outputs": [
    {
     "data": {
      "image/png": "[encoded data removed]",
      "text/plain": [
       "<Figure size 432x288 with 1 Axes>"
      ]
     },
     "metadata": {
      "needs_background": "light"
     },
     "output_type": "display_data"
    }
   ],
   "source": [
    "# Max delinquency bar plot\n",
    "mDLQ=barstack('Max_DLQ')"
   ]
  },
  {
   "cell_type": "code",
   "execution_count": 51,
   "id": "f03f2a27",
   "metadata": {
    "scrolled": false
   },
   "outputs": [
    {
     "data": {
      "image/png": "[encoded data removed]",
      "text/plain": [
       "<Figure size 432x288 with 1 Axes>"
      ]
     },
     "metadata": {
      "needs_background": "light"
     },
     "output_type": "display_data"
    }
   ],
   "source": [
    "# Change in utilization box plot\n",
    "uDelta=edaBox('Util_Delta',(-0.1,None))"
   ]
  },
  {
   "cell_type": "code",
   "execution_count": 52,
   "id": "cff90807",
   "metadata": {},
   "outputs": [
    {
     "name": "stdout",
     "output_type": "stream",
     "text": [
      "+----+-----------+--------+-------+----------+-------+-------+\n",
      "|    |   Default |   Mean |   STD |   Median |   Min |   Max |\n",
      "+====+===========+========+=======+==========+=======+=======+\n",
      "|  0 |      0.00 |   0.16 |  0.27 |     0.03 |  0.00 |  5.31 |\n",
      "+----+-----------+--------+-------+----------+-------+-------+\n",
      "|  1 |      1.00 |   0.14 |  0.26 |     0.01 |  0.00 |  3.44 |\n",
      "+----+-----------+--------+-------+----------+-------+-------+\n"
     ]
    }
   ],
   "source": [
    "# Change in utilization stats table\n",
    "utilDelta=stats('Util_Delta')"
   ]
  },
  {
   "cell_type": "code",
   "execution_count": 53,
   "id": "d8da7925",
   "metadata": {},
   "outputs": [
    {
     "name": "stdout",
     "output_type": "stream",
     "text": [
      "+----+-----------+-----------+-----------+----------+------------+-----------+\n",
      "|    |   Default |      Mean |       STD |   Median |        Min |       Max |\n",
      "+====+===========+===========+===========+==========+============+===========+\n",
      "|  0 |      0.00 | 126670.90 | 132412.38 | 82152.00 | -302827.00 | 793771.00 |\n",
      "+----+-----------+-----------+-----------+----------+------------+-----------+\n",
      "|  1 |      1.00 |  79674.24 | 109529.32 | 28846.00 | -249654.00 | 739040.00 |\n",
      "+----+-----------+-----------+-----------+----------+------------+-----------+\n"
     ]
    }
   ],
   "source": [
    "# Balance remaining after 6 months stats table\n",
    "amtLeft=stats('Amt_Left')"
   ]
  },
  {
   "cell_type": "code",
   "execution_count": 54,
   "id": "f097b460",
   "metadata": {},
   "outputs": [
    {
     "data": {
      "image/png": "[encoded data removed]",
      "text/plain": [
       "<Figure size 432x288 with 1 Axes>"
      ]
     },
     "metadata": {
      "needs_background": "light"
     },
     "output_type": "display_data"
    }
   ],
   "source": [
    "# Balance remaining box plot\n",
    "AL=edaBox('Amt_Left')"
   ]
  },
  {
   "cell_type": "markdown",
   "id": "70c90b10",
   "metadata": {},
   "source": [
    "## Model Based EDA"
   ]
  },
  {
   "cell_type": "markdown",
   "id": "b0ca249f",
   "metadata": {},
   "source": [
    "The first selection method is using all features. The second will be using a combination of information value (IV)\n",
    "and weight of evidence (WOE) to pick the strongest variables with little to no co-dependency. The third way is the\n",
    "using a decision tree grid search that randomly picks variables to narrow down the variables to be used."
   ]
  },
  {
   "cell_type": "code",
   "execution_count": 55,
   "id": "30633d47",
   "metadata": {},
   "outputs": [],
   "source": [
    "# Function to calculate IV and WOE\n",
    "def iv_woe(data, target, bins=10, show_woe=False):\n",
    "    \n",
    "    newDF,woeDF = pd.DataFrame(), pd.DataFrame()\n",
    "    cols = data.columns\n",
    "    for i in cols[~cols.isin([target])]:\n",
    "        if (data[i].dtype.kind in 'bifc') and (len(np.unique(data[i]))>15):\n",
    "            binned_x=pd.qcut(data[i], bins, duplicates='drop')\n",
    "            d0=pd.DataFrame({'x': binned_x, 'y': data[target]})\n",
    "        else:\n",
    "            d0=pd.DataFrame({'x': data[i], 'y': data[target]})\n",
    "        d=d0.groupby(\"x\", as_index=False).agg({\"y\": [\"count\", \"sum\"]})\n",
    "        d.columns=['Cutoff', 'N', 'Events']\n",
    "        d['% of Events']=np.maximum(d['Events'], 0.5)/d['Events'].sum()\n",
    "        d['Non-Events']=d['N']-d['Events']\n",
    "        d['% of Non-Events']=np.maximum(d['Non-Events'], 0.5)/d['Non-Events'].sum()\n",
    "        d['WoE']=np.log(d['% of Events']/d['% of Non-Events'])\n",
    "        d['IV']=d['WoE']*(d['% of Events']-d['% of Non-Events'])\n",
    "        d.insert(loc=0, column='Variable', value=i)\n",
    "        #print(\"Information value of \"+i+\" is \"+str(round(d['IV'].sum(),6)))\n",
    "        temp =pd.DataFrame({\"Variable\" : [i], \"IV\" : [d['IV'].sum()]}, columns=[\"Variable\", \"IV\"])\n",
    "        newDF=pd.concat([newDF,temp], axis=0)\n",
    "        woeDF=pd.concat([woeDF,d], axis=0)\n",
    "        if show_woe == True:\n",
    "            print(d)\n",
    "    return newDF, woeDF"
   ]
  },
  {
   "cell_type": "code",
   "execution_count": 56,
   "id": "dea5f9cf",
   "metadata": {
    "scrolled": false
   },
   "outputs": [],
   "source": [
    "iv, woe = iv_woe(train, target='DEFAULT', bins=4,show_woe=False)"
   ]
  },
  {
   "cell_type": "code",
   "execution_count": 57,
   "id": "d2543cc7",
   "metadata": {},
   "outputs": [
    {
     "name": "stdout",
     "output_type": "stream",
     "text": [
      "['LIMIT_BAL', 'SEX', 'Marriage_Bin', 'Education_Bin', 'Avg_Pmt_Amt', 'AugPayRat', 'JulPayRat', 'Avg_Pmt_Ratio', 'AugUtil', 'JulUtil', 'JunUtil', 'MayUtil', 'AprUtil', 'Avg_Util', 'Bal_Growth_6mo', 'Max_Pmt_Amt', 'Max_Ratio', 'Max_DLQ', 'Amt_Left', 'DEFAULT']\n"
     ]
    }
   ],
   "source": [
    "# Eliminate high IV, high IV could lead to overfitting\n",
    "ivLow=iv[iv.IV>0.08]\n",
    "woeList=list(ivLow.Variable)\n",
    "woeList.append('DEFAULT')\n",
    "print(woeList)"
   ]
  },
  {
   "cell_type": "code",
   "execution_count": 58,
   "id": "343e9c0b",
   "metadata": {
    "scrolled": false
   },
   "outputs": [
    {
     "name": "stdout",
     "output_type": "stream",
     "text": [
      "Fitting 10 folds for each of 280 candidates, totalling 2800 fits\n"
     ]
    },
    {
     "data": {
      "image/png": "[encoded data removed]",
      "text/plain": [
       "<Figure size 1584x1152 with 1 Axes>"
      ]
     },
     "metadata": {
      "needs_background": "light"
     },
     "output_type": "display_data"
    }
   ],
   "source": [
    "# Decision Tree\n",
    "dtcDF=data.copy(deep=True)\n",
    "dtcY=dtcDF.pop('DEFAULT')\n",
    "dtcDF.pop('train')\n",
    "dtcDF.pop('test')\n",
    "dtcDF.pop('validate')\n",
    "warnings.simplefilter(action='ignore', category=FutureWarning)\n",
    "params={\"criterion\":['gini','entropy'],\"splitter\":['best'],\"max_depth\":range(3,10),\n",
    "        \"min_samples_split\": range(5000,15000,1000), \"max_features\":['sqrt','log2']}\n",
    "clfDT=DecisionTreeClassifier(random_state=1234)\n",
    "clf_dt=GridSearchCV(clfDT,param_grid=params, cv=10,scoring='accuracy',verbose=1,n_jobs=-1)\n",
    "clf_dt.fit(dtcDF,dtcY)\n",
    "locals().update(clf_dt.best_params_)\n",
    "clf=DecisionTreeClassifier(criterion=criterion,splitter=splitter,max_depth=max_depth,\n",
    "                           min_samples_split=min_samples_split,max_features=max_features,random_state=1234)\n",
    "trainDF=train.copy(deep=True)\n",
    "trainDF.pop('DEFAULT')\n",
    "clf.fit(trainDF,trainDefault)\n",
    "plt.figure(figsize=(22,16))\n",
    "plot_tree(clf,feature_names=list(train.columns),filled=True)\n",
    "plt.savefig('DecisionTree')\n",
    "plt.show()"
   ]
  },
  {
   "cell_type": "code",
   "execution_count": 59,
   "id": "e40ff97b",
   "metadata": {},
   "outputs": [
    {
     "name": "stdout",
     "output_type": "stream",
     "text": [
      "['SEX', 'Marriage_Bin', 'Avg_Pmt_Amt', 'JulPayRat', 'SeptUtil', 'AugUtil', 'AprUtil', 'Max_Ratio', 'Max_DLQ', 'DEFAULT']\n"
     ]
    }
   ],
   "source": [
    "ftImport=clf.feature_importances_\n",
    "ftList=clf.feature_names_in_\n",
    "dtcFeats=ftList[ftImport>0]\n",
    "dtcFeats=list(dtcFeats)\n",
    "dtcFeats.append('DEFAULT')\n",
    "print(dtcFeats)"
   ]
  },
  {
   "cell_type": "markdown",
   "id": "7cf15c86",
   "metadata": {},
   "source": [
    "## OneR classifier"
   ]
  },
  {
   "cell_type": "markdown",
   "id": "9704ceb9",
   "metadata": {},
   "source": [
    "OneR, short for \"One Rule\", is a classification method that selects one rule which yields the \n",
    "smallest total error. This will show how accurate each variable selection method is."
   ]
  },
  {
   "cell_type": "code",
   "execution_count": 60,
   "id": "907e3f33",
   "metadata": {},
   "outputs": [],
   "source": [
    "def get_feature_quartiles(X,lst,t=False):\n",
    "    X=X.drop([\"DEFAULT\"], axis=1)\n",
    "    if t == True:\n",
    "        X=X[lst]\n",
    "    X_discretized = X.copy()\n",
    "    X_discretized=X_discretized.to_numpy()\n",
    "    for col in range(X.shape[1]):\n",
    "        for q, class_label in zip([1.0, 0.75, 0.5, 0.25], [3, 2, 1, 0]):\n",
    "            threshold = np.quantile(X.iloc[:, col], q=q)\n",
    "            X_discretized[X.iloc[:, col] <= threshold, col] = class_label\n",
    "    return X_discretized.astype(np.int)"
   ]
  },
  {
   "cell_type": "code",
   "execution_count": 61,
   "id": "6fdea3c5",
   "metadata": {},
   "outputs": [
    {
     "name": "stdout",
     "output_type": "stream",
     "text": [
      "Training accuracy 68.557%\n",
      "Test accuracy 68.936%\n"
     ]
    }
   ],
   "source": [
    "## All Features\n",
    "train_disc=get_feature_quartiles(train,0)\n",
    "oner=OneRClassifier()\n",
    "oner.fit(train_disc,trainDefault)\n",
    "ytrainOneR=oner.predict(train_disc)\n",
    "train_acc = np.mean(ytrainOneR == trainDefault)  \n",
    "print(f'Training accuracy {train_acc*100:.3f}%')\n",
    "testDisc=get_feature_quartiles(test,0)\n",
    "yOneRPred=oner.predict(testDisc)\n",
    "OneRAcc=np.mean(yOneRPred == testDefault)  \n",
    "print(f'Test accuracy {OneRAcc*100:.3f}%')"
   ]
  },
  {
   "cell_type": "code",
   "execution_count": 62,
   "id": "866276ea",
   "metadata": {
    "scrolled": true
   },
   "outputs": [
    {
     "name": "stdout",
     "output_type": "stream",
     "text": [
      "Training accuracy 68.557%\n",
      "Test accuracy 68.936%\n"
     ]
    }
   ],
   "source": [
    "## WOE features\n",
    "ftList=woeList.copy()\n",
    "ftList.remove('DEFAULT')\n",
    "train_disc=get_feature_quartiles(train,ftList,True)\n",
    "oner=OneRClassifier()\n",
    "oner.fit(train_disc,trainDefault)\n",
    "ytrainOneR=oner.predict(train_disc)\n",
    "train_acc = np.mean(ytrainOneR == trainDefault)  \n",
    "print(f'Training accuracy {train_acc*100:.3f}%')\n",
    "testDisc=get_feature_quartiles(test,ftList,True)\n",
    "yOneRPred=oner.predict(testDisc)\n",
    "OneRAcc=np.mean(yOneRPred == testDefault)  \n",
    "print(f'Test accuracy {OneRAcc*100:.3f}%')"
   ]
  },
  {
   "cell_type": "code",
   "execution_count": 63,
   "id": "0ad01a1e",
   "metadata": {},
   "outputs": [
    {
     "name": "stdout",
     "output_type": "stream",
     "text": [
      "Training accuracy 68.557%\n",
      "Test accuracy 68.936%\n"
     ]
    }
   ],
   "source": [
    "## Decision Tree features\n",
    "ftList=dtcFeats.copy()\n",
    "ftList.remove('DEFAULT')\n",
    "train_disc=get_feature_quartiles(train,ftList,True)\n",
    "oner=OneRClassifier()\n",
    "oner.fit(train_disc,trainDefault)\n",
    "ytrainOneR=oner.predict(train_disc)\n",
    "train_acc = np.mean(ytrainOneR == trainDefault)  \n",
    "print(f'Training accuracy {train_acc*100:.3f}%')\n",
    "testDisc=get_feature_quartiles(test,ftList,True)\n",
    "yOneRPred=oner.predict(testDisc)\n",
    "OneRAcc=np.mean(yOneRPred == testDefault)  \n",
    "print(f'Test accuracy {OneRAcc*100:.3f}%')"
   ]
  },
  {
   "cell_type": "markdown",
   "id": "9c0f862f",
   "metadata": {},
   "source": [
    "# Random Forest, Logistic, Gradient Boosted Trees, SVM"
   ]
  },
  {
   "cell_type": "code",
   "execution_count": 64,
   "id": "e172a3c9",
   "metadata": {},
   "outputs": [],
   "source": [
    "def training_models(Parameters, Model, DFtrain, DFtest, Modelname):\n",
    "    start=datetime.now()\n",
    "    datatrain=DFtrain.copy()\n",
    "    X_train=datatrain.drop('DEFAULT',axis=1)\n",
    "    y_train=datatrain['DEFAULT']\n",
    "    datatest=DFtest.copy()\n",
    "    X_test=datatest.drop('DEFAULT',axis=1)\n",
    "    y_test=datatest['DEFAULT']\n",
    "    sf = StratifiedKFold(n_splits=5, random_state=1234, shuffle=True)\n",
    "    for i, j in sf.split(X_train, y_train):\n",
    "        sf_x_train, sf_y_train = X_train.iloc[i], y_train.iloc[i]\n",
    "        \n",
    "    for i,j in sf.split(X_test,y_test):\n",
    "        sf_x_test, sf_y_test = X_test.iloc[j], y_test.iloc[j]\n",
    "    sf_x_train, sf_x_test, sf_y_train, sf_y_test = sf_x_train.values, sf_x_test.values, sf_y_train.values, sf_y_test.values\n",
    "    mdl_params = Parameters\n",
    "    mdl_keys = Parameters.keys()\n",
    "    rndm_modl=RandomizedSearchCV(Model, mdl_params, n_iter=4, random_state=1234)\n",
    "    beep.beep(1)\n",
    "    for i, j in sf.split(sf_x_train,sf_y_train):\n",
    "        pipe=imbalanced_make_pipeline(SMOTE(sampling_strategy='minority', random_state=1234), rndm_modl)\n",
    "        fittingModel = pipe.fit(sf_x_train[i],sf_y_train[i])\n",
    "        best_model=rndm_modl.best_estimator_\n",
    "    sm=SMOTE(sampling_strategy='minority',random_state=1234)\n",
    "    smx_train, smy_train = sm.fit_resample(sf_x_train, sf_y_train)\n",
    "    beep.beep(1)\n",
    "    final_mdl = rndm_modl.best_estimator_\n",
    "    final_params = best_model.get_params()\n",
    "    final_mdl.fit(smx_train, smy_train)\n",
    "    \n",
    "    y_trainPred=final_mdl.predict(X_train)\n",
    "    model={}\n",
    "    model['Model Type'] = Modelname\n",
    "    model['Accuracy (Train)'] = round((accuracy_score(y_train, y_trainPred)*100),2)\n",
    "    model['Precision (Train)'] = round(precision_score(y_train,y_trainPred),2)\n",
    "    model['Recall (Train)'] = round(recall_score(y_train,y_trainPred),2)\n",
    "    model['ROC-AUC Score (Train)'] = round(roc_auc_score(y_train, y_trainPred),2)\n",
    "    cm=confusion_matrix(y_true=y_train, y_pred=y_trainPred)\n",
    "    CMD=ConfusionMatrixDisplay(confusion_matrix=cm, display_labels=final_mdl.classes_)\n",
    "    model['False Positive Rate (Train)']=round(cm[0,1]/(cm[0,1]+cm[0,0]),2)\n",
    "    y_prediction=final_mdl.predict(X_test)\n",
    "    used_params={}\n",
    "    for i,j in Parameters.items():\n",
    "        for k,l in final_params.items():\n",
    "            if i==k:\n",
    "                used_params[i] = l\n",
    "    \n",
    "    model['Accuracy (Test)'] = str(round((accuracy_score(y_test, y_prediction)*100),2)) + \"%\"\n",
    "    model['Precision (Test)'] = round(precision_score(y_test,y_prediction),2)\n",
    "    model['Recall (Test)'] = round(recall_score(y_test,y_prediction),2)\n",
    "    model['ROC-AUC Score (Test)'] = round(roc_auc_score(y_test, y_prediction),2)\n",
    "    cm=confusion_matrix(y_true=y_test, y_pred=y_prediction)\n",
    "    cm=cm/cm.astype(np.float32).sum(axis=1)\n",
    "    CMD=ConfusionMatrixDisplay(confusion_matrix=cm, display_labels=final_mdl.classes_)\n",
    "    CMD.plot(cmap='gist_earth')\n",
    "    model['False Positive Rate (Test)']=round(cm[0,1]/(cm[0,1]+cm[0,0]),2)\n",
    "    stop=datetime.now()\n",
    "    print(\"Function Run Time : \", (stop-start))\n",
    "    beep.beep(4)\n",
    "    return model, final_mdl, CMD"
   ]
  },
  {
   "cell_type": "code",
   "execution_count": 65,
   "id": "0d06a076",
   "metadata": {},
   "outputs": [],
   "source": [
    "def importancePlot(Model, lst=None, check=False):\n",
    "    DF=train.copy()\n",
    "    if check==True:\n",
    "        DF=DF[lst]\n",
    "    DF.pop('DEFAULT')\n",
    "    importances=Model.feature_importances_\n",
    "    feature_importance=100*(importances/importances.max())\n",
    "    feat_importances=pd.Series(feature_importance, index=DF.columns)\n",
    "    sorted_idx=np.argsort(importances)\n",
    "    Y=feat_importances.nlargest(10)\n",
    "    X=Y.index\n",
    "    sns.set_color_codes(\"muted\")\n",
    "    graph=sns.barplot(y=X,x=Y,color='b')\n",
    "    return graph"
   ]
  },
  {
   "cell_type": "markdown",
   "id": "d27caaeb",
   "metadata": {},
   "source": [
    "# Random Forest"
   ]
  },
  {
   "cell_type": "markdown",
   "id": "2dc07a3e",
   "metadata": {},
   "source": [
    "All features"
   ]
  },
  {
   "cell_type": "code",
   "execution_count": 66,
   "id": "6256ba39",
   "metadata": {},
   "outputs": [
    {
     "name": "stdout",
     "output_type": "stream",
     "text": [
      "Function Run Time :  0:03:05.578488\n"
     ]
    },
    {
     "data": {
      "image/png": "[encoded data removed]",
      "text/plain": [
       "<Figure size 432x288 with 2 Axes>"
      ]
     },
     "metadata": {
      "needs_background": "light"
     },
     "output_type": "display_data"
    }
   ],
   "source": [
    "mdlName='Random Forest (All features)'\n",
    "params={\"criterion\":['entropy','gini'],\"max_depth\":[2,3,4,5], \n",
    "        \"min_samples_split\": [500,1000,2500,5000],'max_features':['auto','sqrt','log2']}\n",
    "RFCall, RFCmodel, RFCallCMD = training_models(params, RandomForestClassifier(random_state=1234),train, test, mdlName)"
   ]
  },
  {
   "cell_type": "code",
   "execution_count": 67,
   "id": "57eabd9e",
   "metadata": {},
   "outputs": [
    {
     "data": {
      "text/plain": [
       "Text(0.5, 1.0, 'Random Forest (All features)')"
      ]
     },
     "execution_count": 67,
     "metadata": {},
     "output_type": "execute_result"
    },
    {
     "data": {
      "image/png": "[encoded data removed]",
      "text/plain": [
       "<Figure size 432x288 with 2 Axes>"
      ]
     },
     "metadata": {
      "needs_background": "light"
     },
     "output_type": "display_data"
    }
   ],
   "source": [
    "RFCallCMD.plot(cmap='gist_earth')\n",
    "plt.title('Random Forest (All features)')"
   ]
  },
  {
   "cell_type": "code",
   "execution_count": 68,
   "id": "56f2db53",
   "metadata": {},
   "outputs": [
    {
     "data": {
      "text/plain": [
       "Text(0.5, 0, 'Percentage of Importance')"
      ]
     },
     "execution_count": 68,
     "metadata": {},
     "output_type": "execute_result"
    },
    {
     "data": {
      "image/png": "[encoded data removed]",
      "text/plain": [
       "<Figure size 432x288 with 1 Axes>"
      ]
     },
     "metadata": {
      "needs_background": "light"
     },
     "output_type": "display_data"
    }
   ],
   "source": [
    "RFCallIP=importancePlot(RFCmodel)\n",
    "RFCallIP.set_title('Random Forest Feature Importance Plot (all features)')\n",
    "RFCallIP.set_xlabel('Percentage of Importance')"
   ]
  },
  {
   "cell_type": "markdown",
   "id": "3a4576a2",
   "metadata": {},
   "source": [
    "-----\n",
    "WOE selected features"
   ]
  },
  {
   "cell_type": "code",
   "execution_count": 69,
   "id": "111bdfaf",
   "metadata": {
    "scrolled": true
   },
   "outputs": [
    {
     "name": "stdout",
     "output_type": "stream",
     "text": [
      "Function Run Time :  0:02:31.343863\n"
     ]
    },
    {
     "data": {
      "image/png": "[encoded data removed]",
      "text/plain": [
       "<Figure size 432x288 with 2 Axes>"
      ]
     },
     "metadata": {
      "needs_background": "light"
     },
     "output_type": "display_data"
    }
   ],
   "source": [
    "mdlName='Random Forest (WOE selected features)'\n",
    "params={\"criterion\":['entropy','gini'],\"max_depth\":[2,3,4,5], \n",
    "        \"min_samples_split\": [500,1000,2500,5000],'max_features':['auto','sqrt','log2']}\n",
    "RFCselectWOE, RFCmodelWOESelect, RFC_WoE_CMD=training_models(params, RandomForestClassifier(random_state=1234),train[woeList], test[woeList], mdlName)"
   ]
  },
  {
   "cell_type": "code",
   "execution_count": 70,
   "id": "305c6926",
   "metadata": {},
   "outputs": [
    {
     "data": {
      "text/plain": [
       "Text(0.5, 1.0, 'Random Forest (WoE features)')"
      ]
     },
     "execution_count": 70,
     "metadata": {},
     "output_type": "execute_result"
    },
    {
     "data": {
      "image/png": "[encoded data removed]",
      "text/plain": [
       "<Figure size 432x288 with 2 Axes>"
      ]
     },
     "metadata": {
      "needs_background": "light"
     },
     "output_type": "display_data"
    }
   ],
   "source": [
    "RFC_WoE_CMD.plot(cmap='gist_earth')\n",
    "plt.title('Random Forest (WoE features)')"
   ]
  },
  {
   "cell_type": "code",
   "execution_count": 71,
   "id": "3d9798b6",
   "metadata": {
    "scrolled": true
   },
   "outputs": [
    {
     "data": {
      "text/plain": [
       "Text(0.5, 0, 'Percentage of Importance')"
      ]
     },
     "execution_count": 71,
     "metadata": {},
     "output_type": "execute_result"
    },
    {
     "data": {
      "image/png": "[encoded data removed]",
      "text/plain": [
       "<Figure size 432x288 with 1 Axes>"
      ]
     },
     "metadata": {
      "needs_background": "light"
     },
     "output_type": "display_data"
    }
   ],
   "source": [
    "RFCWoEIP=importancePlot(RFCmodelWOESelect, woeList, True)\n",
    "RFCWoEIP.set_title('Random Forest Feature Importance Plot (WoE features)')\n",
    "RFCWoEIP.set_xlabel('Percentage of Importance')"
   ]
  },
  {
   "cell_type": "markdown",
   "id": "a8c1ad9e",
   "metadata": {},
   "source": [
    "-------\n",
    "Decision Tree selected features"
   ]
  },
  {
   "cell_type": "code",
   "execution_count": 72,
   "id": "c0e21639",
   "metadata": {
    "scrolled": false
   },
   "outputs": [
    {
     "name": "stdout",
     "output_type": "stream",
     "text": [
      "Function Run Time :  0:01:47.328159\n"
     ]
    },
    {
     "data": {
      "image/png": "[encoded data removed]",
      "text/plain": [
       "<Figure size 432x288 with 2 Axes>"
      ]
     },
     "metadata": {
      "needs_background": "light"
     },
     "output_type": "display_data"
    }
   ],
   "source": [
    "mdlName='Random Forest (Decision Tree selected features)'\n",
    "params={\"criterion\":['entropy','gini'],\"max_depth\":[2,3,4,5], \n",
    "        \"min_samples_split\": [500,1000,2500,5000],'max_features':['auto','sqrt','log2']}\n",
    "RFCselectdtc, RFCmodelDTCSelect, RFC_DTC_CMD=training_models(params, RandomForestClassifier(random_state=1234),train[dtcFeats], test[dtcFeats], mdlName)"
   ]
  },
  {
   "cell_type": "code",
   "execution_count": 73,
   "id": "10578c80",
   "metadata": {},
   "outputs": [
    {
     "data": {
      "text/plain": [
       "Text(0.5, 1.0, 'Random Forest (Decision Tree features)')"
      ]
     },
     "execution_count": 73,
     "metadata": {},
     "output_type": "execute_result"
    },
    {
     "data": {
      "image/png": "[encoded data removed]",
      "text/plain": [
       "<Figure size 432x288 with 2 Axes>"
      ]
     },
     "metadata": {
      "needs_background": "light"
     },
     "output_type": "display_data"
    }
   ],
   "source": [
    "RFC_DTC_CMD.plot(cmap='gist_earth')\n",
    "plt.title('Random Forest (Decision Tree features)')"
   ]
  },
  {
   "cell_type": "code",
   "execution_count": 74,
   "id": "4d475c34",
   "metadata": {
    "scrolled": true
   },
   "outputs": [
    {
     "data": {
      "text/plain": [
       "Text(0.5, 0, 'Percentage of Importance')"
      ]
     },
     "execution_count": 74,
     "metadata": {},
     "output_type": "execute_result"
    },
    {
     "data": {
      "image/png": "[encoded data removed]",
      "text/plain": [
       "<Figure size 432x288 with 1 Axes>"
      ]
     },
     "metadata": {
      "needs_background": "light"
     },
     "output_type": "display_data"
    }
   ],
   "source": [
    "RFC_DTC_IP=importancePlot(RFCmodelDTCSelect, dtcFeats, True)\n",
    "RFC_DTC_IP.set_title('Random Forest Feature Importance Plot (Decision Tree features)')\n",
    "RFC_DTC_IP.set_xlabel('Percentage of Importance')"
   ]
  },
  {
   "cell_type": "markdown",
   "id": "3bc5720a",
   "metadata": {},
   "source": [
    "# Gradient Boosting"
   ]
  },
  {
   "cell_type": "markdown",
   "id": "7a342652",
   "metadata": {},
   "source": [
    "All features"
   ]
  },
  {
   "cell_type": "code",
   "execution_count": 75,
   "id": "36c74443",
   "metadata": {},
   "outputs": [
    {
     "name": "stdout",
     "output_type": "stream",
     "text": [
      "Function Run Time :  0:09:25.035687\n"
     ]
    },
    {
     "data": {
      "image/png": "[encoded data removed]",
      "text/plain": [
       "<Figure size 432x288 with 2 Axes>"
      ]
     },
     "metadata": {
      "needs_background": "light"
     },
     "output_type": "display_data"
    }
   ],
   "source": [
    "mdlName='Gradient Boosting (All features)'\n",
    "params={\"criterion\":['friedman_mse', 'squared_error'],\"max_depth\":[2,3,4], 'learning_rate':[0.01,0.1,0.5],\n",
    "        \"min_samples_split\": [1000,2500,5000],'max_features':['auto','sqrt','log2']}\n",
    "GBMall, GBallModel, GBallCMD =training_models(params,GradientBoostingClassifier(random_state=1234),train, test, mdlName)"
   ]
  },
  {
   "cell_type": "code",
   "execution_count": 76,
   "id": "479de272",
   "metadata": {},
   "outputs": [
    {
     "data": {
      "text/plain": [
       "Text(0.5, 1.0, 'Gradient Boosting (All features)')"
      ]
     },
     "execution_count": 76,
     "metadata": {},
     "output_type": "execute_result"
    },
    {
     "data": {
      "image/png": "[encoded data removed]",
      "text/plain": [
       "<Figure size 432x288 with 2 Axes>"
      ]
     },
     "metadata": {
      "needs_background": "light"
     },
     "output_type": "display_data"
    }
   ],
   "source": [
    "GBallCMD.plot(cmap='gist_earth')\n",
    "plt.title('Gradient Boosting (All features)')"
   ]
  },
  {
   "cell_type": "code",
   "execution_count": 77,
   "id": "9a0f1bf8",
   "metadata": {
    "scrolled": true
   },
   "outputs": [
    {
     "data": {
      "text/plain": [
       "Text(0.5, 0, 'Percentage of Importance')"
      ]
     },
     "execution_count": 77,
     "metadata": {},
     "output_type": "execute_result"
    },
    {
     "data": {
      "image/png": "[encoded data removed]",
      "text/plain": [
       "<Figure size 432x288 with 1 Axes>"
      ]
     },
     "metadata": {
      "needs_background": "light"
     },
     "output_type": "display_data"
    }
   ],
   "source": [
    "GBallIP=importancePlot(GBallModel)\n",
    "GBallIP.set_title('Gradient Boosting Feature Importance Plot (All features)')\n",
    "GBallIP.set_xlabel('Percentage of Importance')"
   ]
  },
  {
   "cell_type": "markdown",
   "id": "86cb41c8",
   "metadata": {},
   "source": [
    "-----\n",
    "WOE selected features"
   ]
  },
  {
   "cell_type": "code",
   "execution_count": 78,
   "id": "3fe07e7e",
   "metadata": {
    "scrolled": false
   },
   "outputs": [
    {
     "name": "stdout",
     "output_type": "stream",
     "text": [
      "Function Run Time :  0:06:24.472249\n"
     ]
    },
    {
     "data": {
      "image/png": "[encoded data removed]",
      "text/plain": [
       "<Figure size 432x288 with 2 Axes>"
      ]
     },
     "metadata": {
      "needs_background": "light"
     },
     "output_type": "display_data"
    }
   ],
   "source": [
    "mdlName='Gradient Boosting (WOE selected features)'\n",
    "params={\"criterion\":['friedman_mse', 'squared_error'],\"max_depth\":[2,3,4], 'learning_rate':[0.01,0.1,0.5],\n",
    "        \"min_samples_split\": [1000,2500,5000],'max_features':['auto','sqrt','log2']}\n",
    "GBMselectWOE, GBselectWOEModel, GBwoeCMD=training_models(params,GradientBoostingClassifier(random_state=1234),\n",
    "                          train[woeList], test[woeList], mdlName)"
   ]
  },
  {
   "cell_type": "code",
   "execution_count": 79,
   "id": "c69e9b2f",
   "metadata": {},
   "outputs": [
    {
     "data": {
      "text/plain": [
       "Text(0.5, 1.0, 'Gradient Boosting (WoE features)')"
      ]
     },
     "execution_count": 79,
     "metadata": {},
     "output_type": "execute_result"
    },
    {
     "data": {
      "image/png": "[encoded data removed]",
      "text/plain": [
       "<Figure size 432x288 with 2 Axes>"
      ]
     },
     "metadata": {
      "needs_background": "light"
     },
     "output_type": "display_data"
    }
   ],
   "source": [
    "GBwoeCMD.plot(cmap='gist_earth')\n",
    "plt.title('Gradient Boosting (WoE features)')"
   ]
  },
  {
   "cell_type": "code",
   "execution_count": 80,
   "id": "05fa765c",
   "metadata": {
    "scrolled": true
   },
   "outputs": [
    {
     "data": {
      "text/plain": [
       "Text(0.5, 0, 'Percentage of Importance')"
      ]
     },
     "execution_count": 80,
     "metadata": {},
     "output_type": "execute_result"
    },
    {
     "data": {
      "image/png": "[encoded data removed]",
      "text/plain": [
       "<Figure size 432x288 with 1 Axes>"
      ]
     },
     "metadata": {
      "needs_background": "light"
     },
     "output_type": "display_data"
    }
   ],
   "source": [
    "GBwoeIP=importancePlot(GBselectWOEModel, woeList, True)\n",
    "GBwoeIP.set_title('Gradient Boosting Feature Importance Plot (WoE features)')\n",
    "GBwoeIP.set_xlabel('Percentage of Importance')"
   ]
  },
  {
   "cell_type": "markdown",
   "id": "46251d47",
   "metadata": {},
   "source": [
    "-----\n",
    "Decision Tree selected features"
   ]
  },
  {
   "cell_type": "code",
   "execution_count": 81,
   "id": "802c0714",
   "metadata": {},
   "outputs": [
    {
     "name": "stdout",
     "output_type": "stream",
     "text": [
      "Function Run Time :  0:03:10.947147\n"
     ]
    },
    {
     "data": {
      "image/png": "[encoded data removed]",
      "text/plain": [
       "<Figure size 432x288 with 2 Axes>"
      ]
     },
     "metadata": {
      "needs_background": "light"
     },
     "output_type": "display_data"
    }
   ],
   "source": [
    "mdlName='Gradient Boosting (Decision Tree selected features)'\n",
    "params={\"criterion\":['friedman_mse', 'squared_error'],\"max_depth\":[2,3,4], 'learning_rate':[0.01,0.1,0.5],\n",
    "        \"min_samples_split\": [1000,2500,5000],'max_features':['auto','sqrt','log2']}\n",
    "GBMselectDTC, GBselectDTCModel, GBdtcCMD=training_models(params,GradientBoostingClassifier(random_state=1234),\n",
    "                          train[dtcFeats], test[dtcFeats], mdlName)"
   ]
  },
  {
   "cell_type": "code",
   "execution_count": 82,
   "id": "7edd744c",
   "metadata": {},
   "outputs": [
    {
     "data": {
      "text/plain": [
       "Text(0.5, 1.0, 'Gradient Boosting (Decision Tree features)')"
      ]
     },
     "execution_count": 82,
     "metadata": {},
     "output_type": "execute_result"
    },
    {
     "data": {
      "image/png": "[encoded data removed]",
      "text/plain": [
       "<Figure size 432x288 with 2 Axes>"
      ]
     },
     "metadata": {
      "needs_background": "light"
     },
     "output_type": "display_data"
    }
   ],
   "source": [
    "GBdtcCMD.plot(cmap='gist_earth')\n",
    "plt.title('Gradient Boosting (Decision Tree features)')"
   ]
  },
  {
   "cell_type": "code",
   "execution_count": 83,
   "id": "e693db55",
   "metadata": {},
   "outputs": [
    {
     "data": {
      "text/plain": [
       "Text(0.5, 0, 'Percentage of Importance')"
      ]
     },
     "execution_count": 83,
     "metadata": {},
     "output_type": "execute_result"
    },
    {
     "data": {
      "image/png": "[encoded data removed]",
      "text/plain": [
       "<Figure size 432x288 with 1 Axes>"
      ]
     },
     "metadata": {
      "needs_background": "light"
     },
     "output_type": "display_data"
    }
   ],
   "source": [
    "GBdtcIP=importancePlot(GBselectDTCModel, dtcFeats, True)\n",
    "GBdtcIP.set_title('Gradient Boosting Feature Importance Plot (Decision Tree features)')\n",
    "GBdtcIP.set_xlabel('Percentage of Importance')"
   ]
  },
  {
   "cell_type": "markdown",
   "id": "820ebe5a",
   "metadata": {},
   "source": [
    "# Logistic Regression"
   ]
  },
  {
   "cell_type": "markdown",
   "id": "5b2b7a99",
   "metadata": {},
   "source": [
    "All features"
   ]
  },
  {
   "cell_type": "code",
   "execution_count": 84,
   "id": "560e3176",
   "metadata": {},
   "outputs": [
    {
     "name": "stdout",
     "output_type": "stream",
     "text": [
      "Function Run Time :  0:00:15.326394\n"
     ]
    },
    {
     "data": {
      "image/png": "[encoded data removed]",
      "text/plain": [
       "<Figure size 432x288 with 2 Axes>"
      ]
     },
     "metadata": {
      "needs_background": "light"
     },
     "output_type": "display_data"
    }
   ],
   "source": [
    "mdlName='Logistic Regression (All features)'\n",
    "params={'solver': ['lbfgs','newton-cg','saga'],'penalty':['l1','l2','elasticnet']}\n",
    "LOGall, LOGmodelAll, LOGallCMD=training_models(params, LogisticRegression(random_state=1234),train, test, mdlName)"
   ]
  },
  {
   "cell_type": "code",
   "execution_count": 85,
   "id": "accebbaf",
   "metadata": {},
   "outputs": [
    {
     "data": {
      "text/plain": [
       "Text(0.5, 1.0, 'Logistic Regression (All features)')"
      ]
     },
     "execution_count": 85,
     "metadata": {},
     "output_type": "execute_result"
    },
    {
     "data": {
      "image/png": "[encoded data removed]",
      "text/plain": [
       "<Figure size 432x288 with 2 Axes>"
      ]
     },
     "metadata": {
      "needs_background": "light"
     },
     "output_type": "display_data"
    }
   ],
   "source": [
    "LOGallCMD.plot(cmap='gist_earth')\n",
    "plt.title('Logistic Regression (All features)')"
   ]
  },
  {
   "cell_type": "code",
   "execution_count": 86,
   "id": "8eddfed7",
   "metadata": {},
   "outputs": [
    {
     "name": "stdout",
     "output_type": "stream",
     "text": [
      "                                 OLS Regression Results                                \n",
      "=======================================================================================\n",
      "Dep. Variable:                DEFAULT   R-squared (uncentered):                   0.534\n",
      "Model:                            OLS   Adj. R-squared (uncentered):              0.534\n",
      "Method:                 Least Squares   F-statistic:                              1443.\n",
      "Date:                Sat, 12 Aug 2023   Prob (F-statistic):                        0.00\n",
      "Time:                        13:45:53   Log-Likelihood:                         -22550.\n",
      "No. Observations:               32761   AIC:                                  4.515e+04\n",
      "Df Residuals:                   32735   BIC:                                  4.537e+04\n",
      "Df Model:                          26                                                  \n",
      "Covariance Type:            nonrobust                                                  \n",
      "===================================================================================\n",
      "                      coef    std err          t      P>|t|      [0.025      0.975]\n",
      "-----------------------------------------------------------------------------------\n",
      "LIMIT_BAL         4.81e-07   2.03e-07      2.371      0.018    8.34e-08    8.79e-07\n",
      "SEX                 0.0134      0.005      2.785      0.005       0.004       0.023\n",
      "Marriage_Bin        0.0234      0.004      5.262      0.000       0.015       0.032\n",
      "Education_Bin      -0.0142      0.004     -3.734      0.000      -0.022      -0.007\n",
      "Age_Bin             0.1238      0.004     31.136      0.000       0.116       0.132\n",
      "Avg_Bill_Amt    -2.482e-07    2.2e-07     -1.131      0.258   -6.79e-07    1.82e-07\n",
      "Avg_Pmt_Amt     -1.045e-05   9.39e-07    -11.122      0.000   -1.23e-05   -8.61e-06\n",
      "AugPayRat           0.0016      0.001      2.625      0.009       0.000       0.003\n",
      "JulPayRat          -0.0002   9.71e-05     -2.503      0.012      -0.000   -5.27e-05\n",
      "JunPayRat          -0.0001   2.82e-05     -4.081      0.000      -0.000   -5.98e-05\n",
      "MayPayRat          -0.0002   7.41e-05     -2.034      0.042      -0.000   -5.45e-06\n",
      "AprPayRat           0.0019      0.001      3.633      0.000       0.001       0.003\n",
      "Avg_Pmt_Ratio       0.0006      0.000      4.275      0.000       0.000       0.001\n",
      "SeptUtil            0.0239      0.036      0.660      0.509      -0.047       0.095\n",
      "AugUtil             0.0912      0.026      3.535      0.000       0.041       0.142\n",
      "JulUtil             0.0006      0.024      0.027      0.978      -0.046       0.047\n",
      "JunUtil             0.0489      0.023      2.082      0.037       0.003       0.095\n",
      "MayUtil            -0.0549      0.027     -2.062      0.039      -0.107      -0.003\n",
      "AprUtil             0.1570      0.027      5.785      0.000       0.104       0.210\n",
      "Avg_Util            0.0445      0.002     24.903      0.000       0.041       0.048\n",
      "Bal_Growth_6mo  -8.881e-07   2.28e-07     -3.901      0.000   -1.33e-06   -4.42e-07\n",
      "Util_Growth_6mo  7.536e-06   2.88e-06      2.617      0.009    1.89e-06    1.32e-05\n",
      "Max_Bill_Amt    -4.798e-07   1.93e-07     -2.490      0.013   -8.58e-07   -1.02e-07\n",
      "Max_Pmt_Amt      1.382e-06   2.41e-07      5.738      0.000     9.1e-07    1.85e-06\n",
      "Max_Ratio       -3.645e-06    2.4e-06     -1.520      0.129   -8.34e-06    1.06e-06\n",
      "Max_DLQ             0.1459      0.003     56.559      0.000       0.141       0.151\n",
      "Util_Delta          0.0523      0.030      1.765      0.078      -0.006       0.110\n",
      "Amt_Left        -1.068e-07   2.02e-07     -0.528      0.598   -5.03e-07     2.9e-07\n",
      "==============================================================================\n",
      "Omnibus:                    62014.145   Durbin-Watson:                   1.005\n",
      "Prob(Omnibus):                  0.000   Jarque-Bera (JB):             2187.449\n",
      "Skew:                           0.020   Prob(JB):                         0.00\n",
      "Kurtosis:                       1.735   Cond. No.                     1.31e+16\n",
      "==============================================================================\n",
      "\n",
      "Notes:\n",
      "[1] R² is computed without centering (uncentered) since the model does not contain a constant.\n",
      "[2] Standard Errors assume that the covariance matrix of the errors is correctly specified.\n",
      "[3] The smallest eigenvalue is 1.27e-17. This might indicate that there are\n",
      "strong multicollinearity problems or that the design matrix is singular.\n"
     ]
    }
   ],
   "source": [
    "# OLS Regression results\n",
    "X=train.copy(deep=True)\n",
    "X.pop('DEFAULT')\n",
    "y=trainDefault.copy()\n",
    "lg=sm.OLS(y,X)\n",
    "result=lg.fit()\n",
    "print(result.summary())"
   ]
  },
  {
   "cell_type": "markdown",
   "id": "abd08ea3",
   "metadata": {},
   "source": [
    "-----\n",
    "ETC selected features"
   ]
  },
  {
   "cell_type": "markdown",
   "id": "51ffdf1a",
   "metadata": {},
   "source": [
    "For logistic regression, WOE selection was replaced with Extra Trees classification as WOE did not produce enough\n",
    "unique features."
   ]
  },
  {
   "cell_type": "code",
   "execution_count": 87,
   "id": "057bfe39",
   "metadata": {},
   "outputs": [
    {
     "data": {
      "image/png": "[encoded data removed]",
      "text/plain": [
       "<Figure size 432x288 with 1 Axes>"
      ]
     },
     "metadata": {
      "needs_background": "light"
     },
     "output_type": "display_data"
    }
   ],
   "source": [
    "# Extra Trees Classification\n",
    "X=train.copy()\n",
    "Y=X['DEFAULT']\n",
    "X.pop('DEFAULT')\n",
    "Y=Y.values\n",
    "model=ExtraTreesClassifier(n_estimators=10)\n",
    "model.fit(X,Y)\n",
    "feat_importances = pd.Series(model.feature_importances_, index=X.columns)\n",
    "ETCfeats=(feat_importances.nlargest(10).index)\n",
    "ETCfeats=list(ETCfeats)\n",
    "ETCfeats+=['DEFAULT']\n",
    "feat_importances.nlargest(10).plot(kind='barh')\n",
    "plt.show()"
   ]
  },
  {
   "cell_type": "code",
   "execution_count": 88,
   "id": "9612ed53",
   "metadata": {
    "scrolled": true
   },
   "outputs": [
    {
     "name": "stdout",
     "output_type": "stream",
     "text": [
      "Function Run Time :  0:00:08.396868\n"
     ]
    },
    {
     "data": {
      "image/png": "[encoded data removed]",
      "text/plain": [
       "<Figure size 432x288 with 2 Axes>"
      ]
     },
     "metadata": {
      "needs_background": "light"
     },
     "output_type": "display_data"
    }
   ],
   "source": [
    "mdlName='Logistic Regression (ETC features)'\n",
    "params={'solver': ['lbfgs','newton-cg','saga'],'penalty':['l1','l2','elasticnet']}\n",
    "LOGselectETC, LOGETCmodel, LOGetcCMD=training_models(params, LogisticRegression(random_state=1234),train[ETCfeats], test[ETCfeats], mdlName)"
   ]
  },
  {
   "cell_type": "code",
   "execution_count": 89,
   "id": "c03ab5bd",
   "metadata": {},
   "outputs": [
    {
     "data": {
      "image/png": "[encoded data removed]",
      "text/plain": [
       "<Figure size 432x288 with 2 Axes>"
      ]
     },
     "metadata": {
      "needs_background": "light"
     },
     "output_type": "display_data"
    }
   ],
   "source": [
    "LOGetcCMD.plot(cmap='gist_earth')\n",
    "plt.title('Logistic Regression (WoE features)')\n",
    "plt.savefig('Log_WoE_CMD')"
   ]
  },
  {
   "cell_type": "code",
   "execution_count": 90,
   "id": "a4453e00",
   "metadata": {},
   "outputs": [
    {
     "name": "stdout",
     "output_type": "stream",
     "text": [
      "                                 OLS Regression Results                                \n",
      "=======================================================================================\n",
      "Dep. Variable:                DEFAULT   R-squared (uncentered):                   0.518\n",
      "Model:                            OLS   Adj. R-squared (uncentered):              0.518\n",
      "Method:                 Least Squares   F-statistic:                              3527.\n",
      "Date:                Sat, 12 Aug 2023   Prob (F-statistic):                        0.00\n",
      "Time:                        13:46:06   Log-Likelihood:                         -23085.\n",
      "No. Observations:               32761   AIC:                                  4.619e+04\n",
      "Df Residuals:                   32751   BIC:                                  4.627e+04\n",
      "Df Model:                          10                                                  \n",
      "Covariance Type:            nonrobust                                                  \n",
      "=================================================================================\n",
      "                    coef    std err          t      P>|t|      [0.025      0.975]\n",
      "---------------------------------------------------------------------------------\n",
      "Max_DLQ           0.1522      0.003     59.503      0.000       0.147       0.157\n",
      "LIMIT_BAL      7.824e-07   1.64e-07      4.773      0.000    4.61e-07     1.1e-06\n",
      "Marriage_Bin      0.0215      0.004      4.842      0.000       0.013       0.030\n",
      "SEX               0.0403      0.005      8.372      0.000       0.031       0.050\n",
      "Amt_Left       -1.11e-07   1.63e-07     -0.682      0.495    -4.3e-07    2.08e-07\n",
      "Max_Pmt_Amt     1.54e-06   2.35e-07      6.559      0.000    1.08e-06       2e-06\n",
      "Education_Bin     0.0375      0.003     10.792      0.000       0.031       0.044\n",
      "Avg_Pmt_Amt   -1.071e-05   9.41e-07    -11.379      0.000   -1.26e-05   -8.87e-06\n",
      "Max_Bill_Amt  -8.498e-07   1.69e-07     -5.037      0.000   -1.18e-06   -5.19e-07\n",
      "Avg_Util          0.3659      0.011     32.709      0.000       0.344       0.388\n",
      "==============================================================================\n",
      "Omnibus:                    79294.701   Durbin-Watson:                   0.983\n",
      "Prob(Omnibus):                  0.000   Jarque-Bera (JB):             2244.158\n",
      "Skew:                           0.039   Prob(JB):                         0.00\n",
      "Kurtosis:                       1.720   Cond. No.                     1.06e+06\n",
      "==============================================================================\n",
      "\n",
      "Notes:\n",
      "[1] R² is computed without centering (uncentered) since the model does not contain a constant.\n",
      "[2] Standard Errors assume that the covariance matrix of the errors is correctly specified.\n",
      "[3] The condition number is large, 1.06e+06. This might indicate that there are\n",
      "strong multicollinearity or other numerical problems.\n"
     ]
    }
   ],
   "source": [
    "X=train.copy(deep=True)\n",
    "X=X[ETCfeats]\n",
    "X.pop('DEFAULT')\n",
    "y=trainDefault.copy()\n",
    "lg=sm.OLS(y,X)\n",
    "result=lg.fit()\n",
    "print(result.summary())"
   ]
  },
  {
   "cell_type": "markdown",
   "id": "211606e2",
   "metadata": {},
   "source": [
    "----\n",
    "Decision Tree selected features"
   ]
  },
  {
   "cell_type": "code",
   "execution_count": 91,
   "id": "738a6bce",
   "metadata": {},
   "outputs": [
    {
     "name": "stdout",
     "output_type": "stream",
     "text": [
      "Function Run Time :  0:00:07.924003\n"
     ]
    },
    {
     "data": {
      "image/png": "[encoded data removed]",
      "text/plain": [
       "<Figure size 432x288 with 2 Axes>"
      ]
     },
     "metadata": {
      "needs_background": "light"
     },
     "output_type": "display_data"
    }
   ],
   "source": [
    "mdlName='Logistic Regression (Decision tree selected features)'\n",
    "params={'solver': ['lbfgs','newton-cg','saga'],'penalty':['l1','l2','elasticnet']}\n",
    "LOGselectDTC, LOGDTCmodel, LOGdtcCMD=training_models(params, LogisticRegression(random_state=1234),train[dtcFeats], test[dtcFeats], mdlName)"
   ]
  },
  {
   "cell_type": "code",
   "execution_count": 92,
   "id": "b9cb4a3f",
   "metadata": {},
   "outputs": [
    {
     "data": {
      "text/plain": [
       "Text(0.5, 1.0, 'Logistic Regression (Decision Tree features)')"
      ]
     },
     "execution_count": 92,
     "metadata": {},
     "output_type": "execute_result"
    },
    {
     "data": {
      "image/png": "[encoded data removed]",
      "text/plain": [
       "<Figure size 432x288 with 2 Axes>"
      ]
     },
     "metadata": {
      "needs_background": "light"
     },
     "output_type": "display_data"
    }
   ],
   "source": [
    "LOGdtcCMD.plot(cmap='gist_earth')\n",
    "plt.title('Logistic Regression (Decision Tree features)')"
   ]
  },
  {
   "cell_type": "code",
   "execution_count": 93,
   "id": "07d9e658",
   "metadata": {},
   "outputs": [
    {
     "name": "stdout",
     "output_type": "stream",
     "text": [
      "                                 OLS Regression Results                                \n",
      "=======================================================================================\n",
      "Dep. Variable:                DEFAULT   R-squared (uncentered):                   0.508\n",
      "Model:                            OLS   Adj. R-squared (uncentered):              0.508\n",
      "Method:                 Least Squares   F-statistic:                              3755.\n",
      "Date:                Sat, 12 Aug 2023   Prob (F-statistic):                        0.00\n",
      "Time:                        13:46:18   Log-Likelihood:                         -23444.\n",
      "No. Observations:               32761   AIC:                                  4.691e+04\n",
      "Df Residuals:                   32752   BIC:                                  4.698e+04\n",
      "Df Model:                           9                                                  \n",
      "Covariance Type:            nonrobust                                                  \n",
      "================================================================================\n",
      "                   coef    std err          t      P>|t|      [0.025      0.975]\n",
      "--------------------------------------------------------------------------------\n",
      "SEX              0.1050      0.004     26.013      0.000       0.097       0.113\n",
      "Marriage_Bin     0.0591      0.004     13.894      0.000       0.051       0.067\n",
      "Avg_Pmt_Amt  -4.289e-06   3.39e-07    -12.648      0.000   -4.95e-06   -3.62e-06\n",
      "JulPayRat    -2.861e-05   9.81e-05     -0.292      0.771      -0.000       0.000\n",
      "SeptUtil         0.0536      0.021      2.610      0.009       0.013       0.094\n",
      "AugUtil          0.0950      0.022      4.316      0.000       0.052       0.138\n",
      "AprUtil          0.0916      0.012      7.638      0.000       0.068       0.115\n",
      "Max_Ratio     -2.22e-06   2.46e-06     -0.903      0.367   -7.04e-06     2.6e-06\n",
      "Max_DLQ          0.1573      0.003     60.796      0.000       0.152       0.162\n",
      "==============================================================================\n",
      "Omnibus:                    52697.574   Durbin-Watson:                   0.968\n",
      "Prob(Omnibus):                  0.000   Jarque-Bera (JB):             2155.299\n",
      "Skew:                           0.040   Prob(JB):                         0.00\n",
      "Kurtosis:                       1.746   Cond. No.                     9.93e+04\n",
      "==============================================================================\n",
      "\n",
      "Notes:\n",
      "[1] R² is computed without centering (uncentered) since the model does not contain a constant.\n",
      "[2] Standard Errors assume that the covariance matrix of the errors is correctly specified.\n",
      "[3] The condition number is large, 9.93e+04. This might indicate that there are\n",
      "strong multicollinearity or other numerical problems.\n"
     ]
    }
   ],
   "source": [
    "X=train.copy(deep=True)\n",
    "X=X[dtcFeats]\n",
    "X.pop('DEFAULT')\n",
    "y=trainDefault.copy()\n",
    "lg=sm.OLS(y,X)\n",
    "result=lg.fit()\n",
    "print(result.summary())"
   ]
  },
  {
   "cell_type": "markdown",
   "id": "2908aede",
   "metadata": {},
   "source": [
    "# SVM"
   ]
  },
  {
   "cell_type": "markdown",
   "id": "d92c20ac",
   "metadata": {},
   "source": [
    "All features"
   ]
  },
  {
   "cell_type": "code",
   "execution_count": 94,
   "id": "f9057a6c",
   "metadata": {},
   "outputs": [
    {
     "name": "stdout",
     "output_type": "stream",
     "text": [
      "Function Run Time :  0:14:00.436375\n"
     ]
    },
    {
     "data": {
      "image/png": "[encoded data removed]",
      "text/plain": [
       "<Figure size 432x288 with 2 Axes>"
      ]
     },
     "metadata": {
      "needs_background": "light"
     },
     "output_type": "display_data"
    }
   ],
   "source": [
    "mdlName='SVM (All Features)'\n",
    "params={'degree':[3], 'max_iter' : [-1]}\n",
    "SVMall, SVMallModel, SVMallCMD =training_models(params,SVC(random_state=1234),train, test, mdlName)"
   ]
  },
  {
   "cell_type": "code",
   "execution_count": 95,
   "id": "caae2332",
   "metadata": {},
   "outputs": [
    {
     "data": {
      "text/plain": [
       "Text(0.5, 1.0, 'SVM (All features)')"
      ]
     },
     "execution_count": 95,
     "metadata": {},
     "output_type": "execute_result"
    },
    {
     "data": {
      "image/png": "[encoded data removed]",
      "text/plain": [
       "<Figure size 432x288 with 2 Axes>"
      ]
     },
     "metadata": {
      "needs_background": "light"
     },
     "output_type": "display_data"
    }
   ],
   "source": [
    "SVMallCMD.plot(cmap='gist_earth')\n",
    "plt.title('SVM (All features)')"
   ]
  },
  {
   "cell_type": "markdown",
   "id": "8a32f55d",
   "metadata": {},
   "source": [
    "------\n",
    "WOE selected features"
   ]
  },
  {
   "cell_type": "code",
   "execution_count": 96,
   "id": "cbb79373",
   "metadata": {},
   "outputs": [
    {
     "name": "stdout",
     "output_type": "stream",
     "text": [
      "Function Run Time :  0:13:38.902419\n"
     ]
    },
    {
     "data": {
      "image/png": "[encoded data removed]",
      "text/plain": [
       "<Figure size 432x288 with 2 Axes>"
      ]
     },
     "metadata": {
      "needs_background": "light"
     },
     "output_type": "display_data"
    }
   ],
   "source": [
    "mdlName='SVM (WOE select Features)'\n",
    "params={'degree':[3], 'max_iter' : [-1]}\n",
    "SVMselectWOE, SVMselectWOEModel, SVMwoeCMD=training_models(params,SVC(random_state=1234),train[woeList], test[woeList], mdlName)"
   ]
  },
  {
   "cell_type": "code",
   "execution_count": 97,
   "id": "5e74e5a6",
   "metadata": {},
   "outputs": [
    {
     "data": {
      "text/plain": [
       "Text(0.5, 1.0, 'SVM (WoE features)')"
      ]
     },
     "execution_count": 97,
     "metadata": {},
     "output_type": "execute_result"
    },
    {
     "data": {
      "image/png": "[encoded data removed]",
      "text/plain": [
       "<Figure size 432x288 with 2 Axes>"
      ]
     },
     "metadata": {
      "needs_background": "light"
     },
     "output_type": "display_data"
    }
   ],
   "source": [
    "SVMwoeCMD.plot(cmap='gist_earth')\n",
    "plt.title('SVM (WoE features)')"
   ]
  },
  {
   "cell_type": "markdown",
   "id": "a0c8c7e4",
   "metadata": {},
   "source": [
    "-----\n",
    "Decision tree selected features"
   ]
  },
  {
   "cell_type": "code",
   "execution_count": 98,
   "id": "7950362b",
   "metadata": {},
   "outputs": [
    {
     "name": "stdout",
     "output_type": "stream",
     "text": [
      "Function Run Time :  0:14:10.951559\n"
     ]
    },
    {
     "data": {
      "image/png": "[encoded data removed]",
      "text/plain": [
       "<Figure size 432x288 with 2 Axes>"
      ]
     },
     "metadata": {
      "needs_background": "light"
     },
     "output_type": "display_data"
    }
   ],
   "source": [
    "mdlName='SVM (Decision Tree select Features)'\n",
    "params={'degree':[3], 'max_iter' : [-1]}\n",
    "SVMselectDTC, SVMselectDTCModel, SVMdtcCMD=training_models(params,SVC(random_state=1234),train[dtcFeats], test[dtcFeats], mdlName)"
   ]
  },
  {
   "cell_type": "code",
   "execution_count": 99,
   "id": "5b080aea",
   "metadata": {},
   "outputs": [
    {
     "data": {
      "text/plain": [
       "Text(0.5, 1.0, 'SVM (Decision Tree features)')"
      ]
     },
     "execution_count": 99,
     "metadata": {},
     "output_type": "execute_result"
    },
    {
     "data": {
      "image/png": "[encoded data removed]",
      "text/plain": [
       "<Figure size 432x288 with 2 Axes>"
      ]
     },
     "metadata": {
      "needs_background": "light"
     },
     "output_type": "display_data"
    }
   ],
   "source": [
    "SVMdtcCMD.plot(cmap='gist_earth')\n",
    "plt.title('SVM (Decision Tree features)')"
   ]
  },
  {
   "cell_type": "code",
   "execution_count": 100,
   "id": "ecf7f7b6",
   "metadata": {
    "scrolled": false
   },
   "outputs": [],
   "source": [
    "# Move model result metrics into dataframe\n",
    "AllModels=[RFCall, RFCselectWOE, RFCselectdtc, GBMall, GBMselectWOE, GBMselectDTC,\n",
    "           LOGall, LOGselectETC, LOGselectDTC, SVMall, SVMselectWOE, SVMselectDTC]\n",
    "mdls=pd.DataFrame()\n",
    "for i in AllModels:\n",
    "    X=pd.DataFrame.from_dict(i,orient='index').transpose()\n",
    "    mdls=mdls.append(X, ignore_index=True)"
   ]
  },
  {
   "cell_type": "code",
   "execution_count": 101,
   "id": "28a439a8",
   "metadata": {},
   "outputs": [
    {
     "data": {
      "text/html": [
       "<div>\n",
       "<style scoped>\n",
       "    .dataframe tbody tr th:only-of-type {\n",
       "        vertical-align: middle;\n",
       "    }\n",
       "\n",
       "    .dataframe tbody tr th {\n",
       "        vertical-align: top;\n",
       "    }\n",
       "\n",
       "    .dataframe thead th {\n",
       "        text-align: right;\n",
       "    }\n",
       "</style>\n",
       "<table border=\"1\" class=\"dataframe\">\n",
       "  <thead>\n",
       "    <tr style=\"text-align: right;\">\n",
       "      <th></th>\n",
       "      <th>Model Type</th>\n",
       "      <th>Accuracy (Train)</th>\n",
       "      <th>Precision (Train)</th>\n",
       "      <th>Recall (Train)</th>\n",
       "      <th>ROC-AUC Score (Train)</th>\n",
       "      <th>False Positive Rate (Train)</th>\n",
       "    </tr>\n",
       "  </thead>\n",
       "  <tbody>\n",
       "    <tr>\n",
       "      <th>0</th>\n",
       "      <td>Random Forest (All features)</td>\n",
       "      <td>74.48</td>\n",
       "      <td>0.75</td>\n",
       "      <td>0.73</td>\n",
       "      <td>0.74</td>\n",
       "      <td>0.24</td>\n",
       "    </tr>\n",
       "    <tr>\n",
       "      <th>1</th>\n",
       "      <td>Random Forest (WOE selected features)</td>\n",
       "      <td>74.2</td>\n",
       "      <td>0.75</td>\n",
       "      <td>0.72</td>\n",
       "      <td>0.74</td>\n",
       "      <td>0.24</td>\n",
       "    </tr>\n",
       "    <tr>\n",
       "      <th>2</th>\n",
       "      <td>Random Forest (Decision Tree selected features)</td>\n",
       "      <td>73.2</td>\n",
       "      <td>0.73</td>\n",
       "      <td>0.73</td>\n",
       "      <td>0.73</td>\n",
       "      <td>0.26</td>\n",
       "    </tr>\n",
       "    <tr>\n",
       "      <th>3</th>\n",
       "      <td>Gradient Boosting (All features)</td>\n",
       "      <td>79.84</td>\n",
       "      <td>0.8</td>\n",
       "      <td>0.79</td>\n",
       "      <td>0.8</td>\n",
       "      <td>0.19</td>\n",
       "    </tr>\n",
       "    <tr>\n",
       "      <th>4</th>\n",
       "      <td>Gradient Boosting (WOE selected features)</td>\n",
       "      <td>78.77</td>\n",
       "      <td>0.79</td>\n",
       "      <td>0.78</td>\n",
       "      <td>0.79</td>\n",
       "      <td>0.2</td>\n",
       "    </tr>\n",
       "    <tr>\n",
       "      <th>5</th>\n",
       "      <td>Gradient Boosting (Decision Tree selected feat...</td>\n",
       "      <td>76.44</td>\n",
       "      <td>0.77</td>\n",
       "      <td>0.76</td>\n",
       "      <td>0.76</td>\n",
       "      <td>0.23</td>\n",
       "    </tr>\n",
       "    <tr>\n",
       "      <th>6</th>\n",
       "      <td>Logistic Regression (All features)</td>\n",
       "      <td>57.13</td>\n",
       "      <td>0.63</td>\n",
       "      <td>0.34</td>\n",
       "      <td>0.57</td>\n",
       "      <td>0.2</td>\n",
       "    </tr>\n",
       "    <tr>\n",
       "      <th>7</th>\n",
       "      <td>Logistic Regression (ETC features)</td>\n",
       "      <td>53.27</td>\n",
       "      <td>0.57</td>\n",
       "      <td>0.25</td>\n",
       "      <td>0.53</td>\n",
       "      <td>0.19</td>\n",
       "    </tr>\n",
       "    <tr>\n",
       "      <th>8</th>\n",
       "      <td>Logistic Regression (Decision tree selected fe...</td>\n",
       "      <td>50.86</td>\n",
       "      <td>0.64</td>\n",
       "      <td>0.03</td>\n",
       "      <td>0.51</td>\n",
       "      <td>0.02</td>\n",
       "    </tr>\n",
       "    <tr>\n",
       "      <th>9</th>\n",
       "      <td>SVM (All Features)</td>\n",
       "      <td>61.43</td>\n",
       "      <td>0.6</td>\n",
       "      <td>0.68</td>\n",
       "      <td>0.61</td>\n",
       "      <td>0.45</td>\n",
       "    </tr>\n",
       "    <tr>\n",
       "      <th>10</th>\n",
       "      <td>SVM (WOE select Features)</td>\n",
       "      <td>60.96</td>\n",
       "      <td>0.59</td>\n",
       "      <td>0.68</td>\n",
       "      <td>0.61</td>\n",
       "      <td>0.46</td>\n",
       "    </tr>\n",
       "    <tr>\n",
       "      <th>11</th>\n",
       "      <td>SVM (Decision Tree select Features)</td>\n",
       "      <td>59.14</td>\n",
       "      <td>0.57</td>\n",
       "      <td>0.76</td>\n",
       "      <td>0.59</td>\n",
       "      <td>0.58</td>\n",
       "    </tr>\n",
       "  </tbody>\n",
       "</table>\n",
       "</div>"
      ],
      "text/plain": [
       "                                           Model Type Accuracy (Train)  \\\n",
       "0                        Random Forest (All features)            74.48   \n",
       "1               Random Forest (WOE selected features)             74.2   \n",
       "2     Random Forest (Decision Tree selected features)             73.2   \n",
       "3                    Gradient Boosting (All features)            79.84   \n",
       "4           Gradient Boosting (WOE selected features)            78.77   \n",
       "5   Gradient Boosting (Decision Tree selected feat...            76.44   \n",
       "6                  Logistic Regression (All features)            57.13   \n",
       "7                  Logistic Regression (ETC features)            53.27   \n",
       "8   Logistic Regression (Decision tree selected fe...            50.86   \n",
       "9                                  SVM (All Features)            61.43   \n",
       "10                          SVM (WOE select Features)            60.96   \n",
       "11                SVM (Decision Tree select Features)            59.14   \n",
       "\n",
       "   Precision (Train) Recall (Train) ROC-AUC Score (Train)  \\\n",
       "0               0.75           0.73                  0.74   \n",
       "1               0.75           0.72                  0.74   \n",
       "2               0.73           0.73                  0.73   \n",
       "3                0.8           0.79                   0.8   \n",
       "4               0.79           0.78                  0.79   \n",
       "5               0.77           0.76                  0.76   \n",
       "6               0.63           0.34                  0.57   \n",
       "7               0.57           0.25                  0.53   \n",
       "8               0.64           0.03                  0.51   \n",
       "9                0.6           0.68                  0.61   \n",
       "10              0.59           0.68                  0.61   \n",
       "11              0.57           0.76                  0.59   \n",
       "\n",
       "   False Positive Rate (Train)  \n",
       "0                         0.24  \n",
       "1                         0.24  \n",
       "2                         0.26  \n",
       "3                         0.19  \n",
       "4                          0.2  \n",
       "5                         0.23  \n",
       "6                          0.2  \n",
       "7                         0.19  \n",
       "8                         0.02  \n",
       "9                         0.45  \n",
       "10                        0.46  \n",
       "11                        0.58  "
      ]
     },
     "execution_count": 101,
     "metadata": {},
     "output_type": "execute_result"
    }
   ],
   "source": [
    "# Training models\n",
    "ModelsTrain = pd.DataFrame(columns=['Model Type','Accuracy (Train)','Precision (Train)','Recall (Train)',\n",
    "                                    'ROC-AUC Score (Train)','False Positive Rate (Train)'])\n",
    "trainCols=list(ModelsTrain.columns)\n",
    "ModelsTrain=mdls[trainCols]\n",
    "ModelsTrain"
   ]
  },
  {
   "cell_type": "code",
   "execution_count": 102,
   "id": "28542ff1",
   "metadata": {},
   "outputs": [
    {
     "data": {
      "text/html": [
       "<div>\n",
       "<style scoped>\n",
       "    .dataframe tbody tr th:only-of-type {\n",
       "        vertical-align: middle;\n",
       "    }\n",
       "\n",
       "    .dataframe tbody tr th {\n",
       "        vertical-align: top;\n",
       "    }\n",
       "\n",
       "    .dataframe thead th {\n",
       "        text-align: right;\n",
       "    }\n",
       "</style>\n",
       "<table border=\"1\" class=\"dataframe\">\n",
       "  <thead>\n",
       "    <tr style=\"text-align: right;\">\n",
       "      <th></th>\n",
       "      <th>Model Type</th>\n",
       "      <th>Accuracy (Test)</th>\n",
       "      <th>Precision (Test)</th>\n",
       "      <th>Recall (Test)</th>\n",
       "      <th>ROC-AUC Score (Test)</th>\n",
       "      <th>False Positive Rate (Test)</th>\n",
       "    </tr>\n",
       "  </thead>\n",
       "  <tbody>\n",
       "    <tr>\n",
       "      <th>0</th>\n",
       "      <td>Random Forest (All features)</td>\n",
       "      <td>74.79%</td>\n",
       "      <td>0.76</td>\n",
       "      <td>0.73</td>\n",
       "      <td>0.75</td>\n",
       "      <td>0.23</td>\n",
       "    </tr>\n",
       "    <tr>\n",
       "      <th>1</th>\n",
       "      <td>Random Forest (WOE selected features)</td>\n",
       "      <td>74.39%</td>\n",
       "      <td>0.76</td>\n",
       "      <td>0.72</td>\n",
       "      <td>0.74</td>\n",
       "      <td>0.23</td>\n",
       "    </tr>\n",
       "    <tr>\n",
       "      <th>2</th>\n",
       "      <td>Random Forest (Decision Tree selected features)</td>\n",
       "      <td>73.55%</td>\n",
       "      <td>0.75</td>\n",
       "      <td>0.73</td>\n",
       "      <td>0.74</td>\n",
       "      <td>0.25</td>\n",
       "    </tr>\n",
       "    <tr>\n",
       "      <th>3</th>\n",
       "      <td>Gradient Boosting (All features)</td>\n",
       "      <td>77.99%</td>\n",
       "      <td>0.8</td>\n",
       "      <td>0.76</td>\n",
       "      <td>0.78</td>\n",
       "      <td>0.2</td>\n",
       "    </tr>\n",
       "    <tr>\n",
       "      <th>4</th>\n",
       "      <td>Gradient Boosting (WOE selected features)</td>\n",
       "      <td>77.64%</td>\n",
       "      <td>0.79</td>\n",
       "      <td>0.77</td>\n",
       "      <td>0.78</td>\n",
       "      <td>0.21</td>\n",
       "    </tr>\n",
       "    <tr>\n",
       "      <th>5</th>\n",
       "      <td>Gradient Boosting (Decision Tree selected feat...</td>\n",
       "      <td>75.31%</td>\n",
       "      <td>0.76</td>\n",
       "      <td>0.75</td>\n",
       "      <td>0.75</td>\n",
       "      <td>0.23</td>\n",
       "    </tr>\n",
       "    <tr>\n",
       "      <th>6</th>\n",
       "      <td>Logistic Regression (All features)</td>\n",
       "      <td>56.52%</td>\n",
       "      <td>0.63</td>\n",
       "      <td>0.35</td>\n",
       "      <td>0.57</td>\n",
       "      <td>0.2</td>\n",
       "    </tr>\n",
       "    <tr>\n",
       "      <th>7</th>\n",
       "      <td>Logistic Regression (ETC features)</td>\n",
       "      <td>52.37%</td>\n",
       "      <td>0.57</td>\n",
       "      <td>0.26</td>\n",
       "      <td>0.53</td>\n",
       "      <td>0.19</td>\n",
       "    </tr>\n",
       "    <tr>\n",
       "      <th>8</th>\n",
       "      <td>Logistic Regression (Decision tree selected fe...</td>\n",
       "      <td>49.72%</td>\n",
       "      <td>0.64</td>\n",
       "      <td>0.03</td>\n",
       "      <td>0.51</td>\n",
       "      <td>0.02</td>\n",
       "    </tr>\n",
       "    <tr>\n",
       "      <th>9</th>\n",
       "      <td>SVM (All Features)</td>\n",
       "      <td>61.22%</td>\n",
       "      <td>0.61</td>\n",
       "      <td>0.68</td>\n",
       "      <td>0.61</td>\n",
       "      <td>0.44</td>\n",
       "    </tr>\n",
       "    <tr>\n",
       "      <th>10</th>\n",
       "      <td>SVM (WOE select Features)</td>\n",
       "      <td>60.7%</td>\n",
       "      <td>0.6</td>\n",
       "      <td>0.68</td>\n",
       "      <td>0.61</td>\n",
       "      <td>0.46</td>\n",
       "    </tr>\n",
       "    <tr>\n",
       "      <th>11</th>\n",
       "      <td>SVM (Decision Tree select Features)</td>\n",
       "      <td>60.82%</td>\n",
       "      <td>0.59</td>\n",
       "      <td>0.77</td>\n",
       "      <td>0.61</td>\n",
       "      <td>0.55</td>\n",
       "    </tr>\n",
       "  </tbody>\n",
       "</table>\n",
       "</div>"
      ],
      "text/plain": [
       "                                           Model Type Accuracy (Test)  \\\n",
       "0                        Random Forest (All features)          74.79%   \n",
       "1               Random Forest (WOE selected features)          74.39%   \n",
       "2     Random Forest (Decision Tree selected features)          73.55%   \n",
       "3                    Gradient Boosting (All features)          77.99%   \n",
       "4           Gradient Boosting (WOE selected features)          77.64%   \n",
       "5   Gradient Boosting (Decision Tree selected feat...          75.31%   \n",
       "6                  Logistic Regression (All features)          56.52%   \n",
       "7                  Logistic Regression (ETC features)          52.37%   \n",
       "8   Logistic Regression (Decision tree selected fe...          49.72%   \n",
       "9                                  SVM (All Features)          61.22%   \n",
       "10                          SVM (WOE select Features)           60.7%   \n",
       "11                SVM (Decision Tree select Features)          60.82%   \n",
       "\n",
       "   Precision (Test) Recall (Test) ROC-AUC Score (Test)  \\\n",
       "0              0.76          0.73                 0.75   \n",
       "1              0.76          0.72                 0.74   \n",
       "2              0.75          0.73                 0.74   \n",
       "3               0.8          0.76                 0.78   \n",
       "4              0.79          0.77                 0.78   \n",
       "5              0.76          0.75                 0.75   \n",
       "6              0.63          0.35                 0.57   \n",
       "7              0.57          0.26                 0.53   \n",
       "8              0.64          0.03                 0.51   \n",
       "9              0.61          0.68                 0.61   \n",
       "10              0.6          0.68                 0.61   \n",
       "11             0.59          0.77                 0.61   \n",
       "\n",
       "   False Positive Rate (Test)  \n",
       "0                        0.23  \n",
       "1                        0.23  \n",
       "2                        0.25  \n",
       "3                         0.2  \n",
       "4                        0.21  \n",
       "5                        0.23  \n",
       "6                         0.2  \n",
       "7                        0.19  \n",
       "8                        0.02  \n",
       "9                        0.44  \n",
       "10                       0.46  \n",
       "11                       0.55  "
      ]
     },
     "execution_count": 102,
     "metadata": {},
     "output_type": "execute_result"
    }
   ],
   "source": [
    "# Test models\n",
    "ModelsTest =  pd.DataFrame(columns=['Model Type','Accuracy (Test)','Precision (Test)','Recall (Test)',\n",
    "                                    'ROC-AUC Score (Test)', 'False Positive Rate (Test)'])\n",
    "testCols=list(ModelsTest.columns)\n",
    "ModelsTest=mdls[testCols]\n",
    "ModelsTest"
   ]
  },
  {
   "cell_type": "markdown",
   "id": "67781555",
   "metadata": {},
   "source": [
    "## Validation of Logistic Regression"
   ]
  },
  {
   "cell_type": "code",
   "execution_count": 103,
   "id": "9eb4c541",
   "metadata": {},
   "outputs": [],
   "source": [
    "paramNames=train.columns\n",
    "paramNames=paramNames.drop('DEFAULT')\n",
    "paramNames=list(paramNames)\n",
    "prNm=[]\n",
    "for i in paramNames:\n",
    "    prNm.append(i)"
   ]
  },
  {
   "cell_type": "code",
   "execution_count": 104,
   "id": "a319aed4",
   "metadata": {
    "scrolled": true
   },
   "outputs": [],
   "source": [
    "eqnVals=(LOGmodelAll.coef_[0])"
   ]
  },
  {
   "cell_type": "code",
   "execution_count": 105,
   "id": "a042d9bf",
   "metadata": {},
   "outputs": [],
   "source": [
    "pd.options.display.precision=10\n",
    "hds=['Variable','Coefficient']\n",
    "LogTable=pd.DataFrame([prNm,eqnVals.astype(float)],index=hds)#,columns=hds)"
   ]
  },
  {
   "cell_type": "code",
   "execution_count": 106,
   "id": "7d23c8d9",
   "metadata": {},
   "outputs": [
    {
     "data": {
      "text/html": [
       "<div>\n",
       "<style scoped>\n",
       "    .dataframe tbody tr th:only-of-type {\n",
       "        vertical-align: middle;\n",
       "    }\n",
       "\n",
       "    .dataframe tbody tr th {\n",
       "        vertical-align: top;\n",
       "    }\n",
       "\n",
       "    .dataframe thead th {\n",
       "        text-align: right;\n",
       "    }\n",
       "</style>\n",
       "<table border=\"1\" class=\"dataframe\">\n",
       "  <thead>\n",
       "    <tr style=\"text-align: right;\">\n",
       "      <th></th>\n",
       "      <th>Variable</th>\n",
       "      <th>Coefficient</th>\n",
       "    </tr>\n",
       "  </thead>\n",
       "  <tbody>\n",
       "    <tr>\n",
       "      <th>0</th>\n",
       "      <td>LIMIT_BAL</td>\n",
       "      <td>-0.0000013591</td>\n",
       "    </tr>\n",
       "    <tr>\n",
       "      <th>1</th>\n",
       "      <td>SEX</td>\n",
       "      <td>0.0000000146</td>\n",
       "    </tr>\n",
       "    <tr>\n",
       "      <th>2</th>\n",
       "      <td>Marriage_Bin</td>\n",
       "      <td>0.0000000141</td>\n",
       "    </tr>\n",
       "    <tr>\n",
       "      <th>3</th>\n",
       "      <td>Education_Bin</td>\n",
       "      <td>0.0000000321</td>\n",
       "    </tr>\n",
       "    <tr>\n",
       "      <th>4</th>\n",
       "      <td>Age_Bin</td>\n",
       "      <td>0.0000000624</td>\n",
       "    </tr>\n",
       "    <tr>\n",
       "      <th>5</th>\n",
       "      <td>Avg_Bill_Amt</td>\n",
       "      <td>0.0000109214</td>\n",
       "    </tr>\n",
       "    <tr>\n",
       "      <th>6</th>\n",
       "      <td>Avg_Pmt_Amt</td>\n",
       "      <td>-0.0000685911</td>\n",
       "    </tr>\n",
       "    <tr>\n",
       "      <th>7</th>\n",
       "      <td>AugPayRat</td>\n",
       "      <td>0.0000000147</td>\n",
       "    </tr>\n",
       "    <tr>\n",
       "      <th>8</th>\n",
       "      <td>JulPayRat</td>\n",
       "      <td>0.0000000106</td>\n",
       "    </tr>\n",
       "    <tr>\n",
       "      <th>9</th>\n",
       "      <td>JunPayRat</td>\n",
       "      <td>0.0000008211</td>\n",
       "    </tr>\n",
       "    <tr>\n",
       "      <th>10</th>\n",
       "      <td>MayPayRat</td>\n",
       "      <td>-0.000000042</td>\n",
       "    </tr>\n",
       "    <tr>\n",
       "      <th>11</th>\n",
       "      <td>AprPayRat</td>\n",
       "      <td>0.0000000302</td>\n",
       "    </tr>\n",
       "    <tr>\n",
       "      <th>12</th>\n",
       "      <td>Avg_Pmt_Ratio</td>\n",
       "      <td>0.0000001669</td>\n",
       "    </tr>\n",
       "    <tr>\n",
       "      <th>13</th>\n",
       "      <td>SeptUtil</td>\n",
       "      <td>0.0000000218</td>\n",
       "    </tr>\n",
       "    <tr>\n",
       "      <th>14</th>\n",
       "      <td>AugUtil</td>\n",
       "      <td>0.0000000229</td>\n",
       "    </tr>\n",
       "    <tr>\n",
       "      <th>15</th>\n",
       "      <td>JulUtil</td>\n",
       "      <td>0.0000000223</td>\n",
       "    </tr>\n",
       "    <tr>\n",
       "      <th>16</th>\n",
       "      <td>JunUtil</td>\n",
       "      <td>0.0000000227</td>\n",
       "    </tr>\n",
       "    <tr>\n",
       "      <th>17</th>\n",
       "      <td>MayUtil</td>\n",
       "      <td>0.000000022</td>\n",
       "    </tr>\n",
       "    <tr>\n",
       "      <th>18</th>\n",
       "      <td>AprUtil</td>\n",
       "      <td>0.0000000229</td>\n",
       "    </tr>\n",
       "    <tr>\n",
       "      <th>19</th>\n",
       "      <td>Avg_Util</td>\n",
       "      <td>0.0000000224</td>\n",
       "    </tr>\n",
       "    <tr>\n",
       "      <th>20</th>\n",
       "      <td>Bal_Growth_6mo</td>\n",
       "      <td>-0.0000044948</td>\n",
       "    </tr>\n",
       "    <tr>\n",
       "      <th>21</th>\n",
       "      <td>Util_Growth_6mo</td>\n",
       "      <td>0.0000035641</td>\n",
       "    </tr>\n",
       "    <tr>\n",
       "      <th>22</th>\n",
       "      <td>Max_Bill_Amt</td>\n",
       "      <td>-0.0000052306</td>\n",
       "    </tr>\n",
       "    <tr>\n",
       "      <th>23</th>\n",
       "      <td>Max_Pmt_Amt</td>\n",
       "      <td>0.0000076101</td>\n",
       "    </tr>\n",
       "    <tr>\n",
       "      <th>24</th>\n",
       "      <td>Max_Ratio</td>\n",
       "      <td>-0.0000034442</td>\n",
       "    </tr>\n",
       "    <tr>\n",
       "      <th>25</th>\n",
       "      <td>Max_DLQ</td>\n",
       "      <td>0.0000001536</td>\n",
       "    </tr>\n",
       "    <tr>\n",
       "      <th>26</th>\n",
       "      <td>Util_Delta</td>\n",
       "      <td>0.0000000023</td>\n",
       "    </tr>\n",
       "    <tr>\n",
       "      <th>27</th>\n",
       "      <td>Amt_Left</td>\n",
       "      <td>0.0000002764</td>\n",
       "    </tr>\n",
       "  </tbody>\n",
       "</table>\n",
       "</div>"
      ],
      "text/plain": [
       "           Variable   Coefficient\n",
       "0         LIMIT_BAL -0.0000013591\n",
       "1               SEX  0.0000000146\n",
       "2      Marriage_Bin  0.0000000141\n",
       "3     Education_Bin  0.0000000321\n",
       "4           Age_Bin  0.0000000624\n",
       "5      Avg_Bill_Amt  0.0000109214\n",
       "6       Avg_Pmt_Amt -0.0000685911\n",
       "7         AugPayRat  0.0000000147\n",
       "8         JulPayRat  0.0000000106\n",
       "9         JunPayRat  0.0000008211\n",
       "10        MayPayRat  -0.000000042\n",
       "11        AprPayRat  0.0000000302\n",
       "12    Avg_Pmt_Ratio  0.0000001669\n",
       "13         SeptUtil  0.0000000218\n",
       "14          AugUtil  0.0000000229\n",
       "15          JulUtil  0.0000000223\n",
       "16          JunUtil  0.0000000227\n",
       "17          MayUtil   0.000000022\n",
       "18          AprUtil  0.0000000229\n",
       "19         Avg_Util  0.0000000224\n",
       "20   Bal_Growth_6mo -0.0000044948\n",
       "21  Util_Growth_6mo  0.0000035641\n",
       "22     Max_Bill_Amt -0.0000052306\n",
       "23      Max_Pmt_Amt  0.0000076101\n",
       "24        Max_Ratio -0.0000034442\n",
       "25          Max_DLQ  0.0000001536\n",
       "26       Util_Delta  0.0000000023\n",
       "27         Amt_Left  0.0000002764"
      ]
     },
     "execution_count": 106,
     "metadata": {},
     "output_type": "execute_result"
    }
   ],
   "source": [
    "LogTable=LogTable.transpose()\n",
    "LogTable"
   ]
  },
  {
   "cell_type": "code",
   "execution_count": 107,
   "id": "064665f9",
   "metadata": {},
   "outputs": [
    {
     "data": {
      "text/plain": [
       "<bound method BaseEstimator.get_params of LogisticRegression(penalty='l1', random_state=1234, solver='saga')>"
      ]
     },
     "execution_count": 107,
     "metadata": {},
     "output_type": "execute_result"
    }
   ],
   "source": [
    "LOGmodelAll.get_params"
   ]
  },
  {
   "cell_type": "code",
   "execution_count": 108,
   "id": "28605e1d",
   "metadata": {},
   "outputs": [],
   "source": [
    "def valModel(X,name):\n",
    "    clf=LogisticRegression(penalty='l1',solver='saga',random_state=1234)\n",
    "    dfTrain=train.copy(deep=True)\n",
    "    trainDefault=dfTrain['DEFAULT']\n",
    "    dfTrain.pop('DEFAULT')\n",
    "    dfX=X.copy(deep=True)\n",
    "    dfY=dfX['DEFAULT']\n",
    "    dfX.pop('DEFAULT')\n",
    "    clf.fit(dfTrain,trainDefault)\n",
    "    y_pred=clf.predict(dfX)\n",
    "    cm=confusion_matrix(y_true=dfY, y_pred=y_pred)\n",
    "    cm=cm/cm.astype(np.float32).sum(axis=1)\n",
    "    CMD=ConfusionMatrixDisplay(confusion_matrix=cm, display_labels=clf.classes_)\n",
    "    CMD.plot(cmap='gist_earth')\n",
    "    plt.show()\n",
    "    Logmodel={}\n",
    "    Logmodel['Dataset'] = name\n",
    "    Logmodel['Accuracy'] = str(round((accuracy_score(dfY, y_pred)*100),2)) + \"%\"\n",
    "    Logmodel['Precision'] = round(precision_score(dfY,y_pred),2)\n",
    "    Logmodel['Recall'] = round(recall_score(dfY,y_pred),2)\n",
    "    Logmodel['ROC-AUC Score'] = round(roc_auc_score(dfY, y_pred),2)\n",
    "    Logmodel['False Positive Rate']=round(cm[0,1]/(cm[0,1]+cm[0,0]),2)\n",
    "    return Logmodel, y_pred"
   ]
  },
  {
   "cell_type": "code",
   "execution_count": 109,
   "id": "e47a749d",
   "metadata": {
    "scrolled": false
   },
   "outputs": [
    {
     "data": {
      "image/png": "[encoded data removed]",
      "text/plain": [
       "<Figure size 432x288 with 2 Axes>"
      ]
     },
     "metadata": {
      "needs_background": "light"
     },
     "output_type": "display_data"
    }
   ],
   "source": [
    "trMdl, trnY=valModel(train,'Train')"
   ]
  },
  {
   "cell_type": "code",
   "execution_count": 110,
   "id": "c9c01ed7",
   "metadata": {},
   "outputs": [
    {
     "data": {
      "image/png": "[encoded data removed]",
      "text/plain": [
       "<Figure size 432x288 with 2 Axes>"
      ]
     },
     "metadata": {
      "needs_background": "light"
     },
     "output_type": "display_data"
    }
   ],
   "source": [
    "tstMdl, tstY=valModel(test,'Test')"
   ]
  },
  {
   "cell_type": "code",
   "execution_count": 111,
   "id": "8f9d1ea8",
   "metadata": {},
   "outputs": [
    {
     "data": {
      "image/png": "[encoded data removed]",
      "text/plain": [
       "<Figure size 432x288 with 2 Axes>"
      ]
     },
     "metadata": {
      "needs_background": "light"
     },
     "output_type": "display_data"
    }
   ],
   "source": [
    "valMdl, valY=valModel(validate,'Validation')"
   ]
  },
  {
   "cell_type": "code",
   "execution_count": 112,
   "id": "ed20aa33",
   "metadata": {},
   "outputs": [
    {
     "data": {
      "text/html": [
       "<div>\n",
       "<style scoped>\n",
       "    .dataframe tbody tr th:only-of-type {\n",
       "        vertical-align: middle;\n",
       "    }\n",
       "\n",
       "    .dataframe tbody tr th {\n",
       "        vertical-align: top;\n",
       "    }\n",
       "\n",
       "    .dataframe thead th {\n",
       "        text-align: right;\n",
       "    }\n",
       "</style>\n",
       "<table border=\"1\" class=\"dataframe\">\n",
       "  <thead>\n",
       "    <tr style=\"text-align: right;\">\n",
       "      <th></th>\n",
       "      <th>Dataset</th>\n",
       "      <th>Accuracy</th>\n",
       "      <th>Precision</th>\n",
       "      <th>Recall</th>\n",
       "      <th>ROC-AUC Score</th>\n",
       "      <th>False Positive Rate</th>\n",
       "    </tr>\n",
       "  </thead>\n",
       "  <tbody>\n",
       "    <tr>\n",
       "      <th>0</th>\n",
       "      <td>Train</td>\n",
       "      <td>57.18%</td>\n",
       "      <td>0.63</td>\n",
       "      <td>0.34</td>\n",
       "      <td>0.57</td>\n",
       "      <td>0.20</td>\n",
       "    </tr>\n",
       "    <tr>\n",
       "      <th>1</th>\n",
       "      <td>Test</td>\n",
       "      <td>56.52%</td>\n",
       "      <td>0.64</td>\n",
       "      <td>0.34</td>\n",
       "      <td>0.57</td>\n",
       "      <td>0.20</td>\n",
       "    </tr>\n",
       "    <tr>\n",
       "      <th>2</th>\n",
       "      <td>Validation</td>\n",
       "      <td>57.67%</td>\n",
       "      <td>0.63</td>\n",
       "      <td>0.36</td>\n",
       "      <td>0.58</td>\n",
       "      <td>0.21</td>\n",
       "    </tr>\n",
       "  </tbody>\n",
       "</table>\n",
       "</div>"
      ],
      "text/plain": [
       "      Dataset Accuracy  Precision  Recall  ROC-AUC Score  False Positive Rate\n",
       "0       Train   57.18%       0.63    0.34           0.57                 0.20\n",
       "1        Test   56.52%       0.64    0.34           0.57                 0.20\n",
       "2  Validation   57.67%       0.63    0.36           0.58                 0.21"
      ]
     },
     "execution_count": 112,
     "metadata": {},
     "output_type": "execute_result"
    }
   ],
   "source": [
    "FinalModels =  pd.DataFrame(columns=['Dataset','Accuracy','Precision','Recall','ROC-AUC Score',\n",
    "                               'False Positive Rate'])\n",
    "FinalModels=FinalModels.append(trMdl, ignore_index=True)\n",
    "FinalModels=FinalModels.append(tstMdl, ignore_index=True)\n",
    "FinalModels=FinalModels.append(valMdl, ignore_index=True)\n",
    "FinalModels"
   ]
  },
  {
   "cell_type": "code",
   "execution_count": 113,
   "id": "d9e19ca8",
   "metadata": {},
   "outputs": [
    {
     "data": {
      "image/png": "[encoded data removed]",
      "text/plain": [
       "<Figure size 864x720 with 1 Axes>"
      ]
     },
     "metadata": {},
     "output_type": "display_data"
    }
   ],
   "source": [
    "sns.set_style('darkgrid')\n",
    "dfYtrain=trainDefault\n",
    "dfYtest=testDefault\n",
    "dfYval = validateDefault\n",
    "noDefTrain=[0 for _ in range(len(trnY))]\n",
    "trnNoDef_fpr, trnNoDef_tpr, _ = roc_curve(trnY,noDefTrain)\n",
    "trnDef_fpr, trnDef_tpr, _ = roc_curve(dfYtrain,trnY)\n",
    "tstDef_fpr, tstDef_tpr, _ = roc_curve(dfYtest,tstY)\n",
    "valDef_fpr, valDef_tpr, _ = roc_curve(dfYval,valY)\n",
    "fig, ax = plt.subplots(figsize=(12,10))\n",
    "sns.lineplot(trnNoDef_fpr, trnNoDef_tpr, ax=ax, linestyle='--',label='Baseline')\n",
    "sns.lineplot(trnDef_fpr,  trnDef_tpr, ax=ax, marker='.',label='Train')\n",
    "sns.lineplot(tstDef_fpr,  tstDef_tpr, ax=ax, marker='.',label='Test')\n",
    "sns.lineplot(valDef_fpr,  valDef_tpr, ax=ax, marker='.',label='Validation')\n",
    "plt.xlabel('False Positive Rate')\n",
    "plt.ylabel('True Positive Rate')\n",
    "plt.title('ROC Curve')\n",
    "plt.legend()\n",
    "plt.show()\n",
    "## add AUC scores to legend, make legend bigger"
   ]
  },
  {
   "cell_type": "code",
   "execution_count": 114,
   "id": "fe6c5874",
   "metadata": {},
   "outputs": [
    {
     "data": {
      "image/png": "[encoded data removed]",
      "text/plain": [
       "<Figure size 720x576 with 1 Axes>"
      ]
     },
     "metadata": {},
     "output_type": "display_data"
    }
   ],
   "source": [
    "## Precision, recall curve\n",
    "fig, ax = plt.subplots(figsize=(10,8))\n",
    "trnPrec, trnReca, _ = precision_recall_curve(dfYtrain,trnY)\n",
    "tstPrec, tstReca, _ = precision_recall_curve(dfYtest,tstY)\n",
    "valPrec, valReca, _ = precision_recall_curve(dfYval,valY)\n",
    "sns.lineplot(trnPrec, trnReca, ax=ax,drawstyle='steps-pre',label='Train')\n",
    "sns.lineplot(tstPrec, tstReca, ax=ax,drawstyle='steps-pre',label='Test')\n",
    "sns.lineplot(valPrec, valReca, ax=ax,drawstyle='steps-pre',label='Validation')\n",
    "plt.xlabel(\"Recall\", fontsize=12)\n",
    "plt.ylabel(\"Precision\", fontsize=12)\n",
    "plt.title(\"Precision-Recall Curves\", fontsize=12)\n",
    "plt.legend()\n",
    "plt.show()\n",
    "## add precision scores into legend, move legend closer to graph/make figure smaller, make legend bigger"
   ]
  },
  {
   "cell_type": "markdown",
   "id": "bc043cde",
   "metadata": {},
   "source": [
    "Kolmogorov-Smirnov (KS) statistic compares the distribution of events (defaulting) and non-event (not defaulting) and returns the max difference. If the KS statistic is close to 0, then there is not a significant difference and the model is not accurate enough."
   ]
  },
  {
   "cell_type": "code",
   "execution_count": 115,
   "id": "e25a85e6",
   "metadata": {},
   "outputs": [],
   "source": [
    "def ks(data=None,target=None, prob=None):\n",
    "    data['target0']=1-data[target]\n",
    "    data['bucket']=pd.qcut(data[prob], 20)\n",
    "    grouped=data.groupby('bucket', as_index = False)\n",
    "    kstable=pd.DataFrame()\n",
    "    kstable['Min Probability']=grouped.min()[prob]\n",
    "    kstable['Max Probability']=grouped.max()[prob]\n",
    "    kstable['Target (Y=1)']=grouped.sum()[target]\n",
    "    kstable['NonTarget (Y=0)']=grouped.sum()['target0']\n",
    "    kstable=kstable.sort_values(by=\"Min Probability\", ascending=False).reset_index(drop=True)\n",
    "    kstable['Target Density']=(kstable['Target (Y=1)']/data[target].sum()).apply('{0:.2%}'.format)\n",
    "    kstable['NonTarget Density']=(kstable['NonTarget (Y=0)']/data['target0'].sum()).apply('{0:.2%}'.format)\n",
    "    kstable['Target CDF']=(kstable['Target (Y=1)']/data[target].sum()).cumsum()\n",
    "    kstable['NonTarget CDF']=(kstable['NonTarget (Y=0)']/data['target0'].sum()).cumsum()\n",
    "    kstable['KS Stat']=np.round(kstable['Target CDF']-kstable['NonTarget CDF'], 3) * 100\n",
    "    #Formating\n",
    "    kstable['Target CDF']=kstable['Target CDF'].apply('{0:.2%}'.format)\n",
    "    kstable['NonTarget CDF']=kstable['NonTarget CDF'].apply('{0:.2%}'.format)\n",
    "    kstable.index=range(1,21)\n",
    "    kstable.index.rename('Decile', inplace=True)\n",
    "    pd.set_option('display.max_columns', 9)\n",
    "    print(kstable)\n",
    "    return(kstable)"
   ]
  },
  {
   "cell_type": "code",
   "execution_count": 116,
   "id": "9623c183",
   "metadata": {},
   "outputs": [
    {
     "name": "stdout",
     "output_type": "stream",
     "text": [
      "        Min Probability  Max Probability  Target (Y=1)  NonTarget (Y=0)  \\\n",
      "Decile                                                                    \n",
      "1          0.9480083064     0.9999733260           788              850   \n",
      "2          0.8998968017     0.9479889996           829              809   \n",
      "3          0.8481376324     0.8998442600           819              819   \n",
      "4          0.7972523147     0.8481132865           838              800   \n",
      "5          0.7477888388     0.7972273468           806              832   \n",
      "6          0.6965982825     0.7477445801           794              844   \n",
      "7          0.6449272110     0.6965977117           825              813   \n",
      "8          0.5963758655     0.6449026167           824              814   \n",
      "9          0.5493104350     0.5963614188           772              866   \n",
      "10         0.5003762553     0.5492910264           823              815   \n",
      "11         0.4512785875     0.5003654536           838              800   \n",
      "12         0.4006137798     0.4512728698           804              834   \n",
      "13         0.3496544684     0.4005909152           842              796   \n",
      "14         0.3005465460     0.3496539433           819              819   \n",
      "15         0.2516882645     0.3005289193           805              833   \n",
      "16         0.2030527486     0.2516690848           805              833   \n",
      "17         0.1522497445     0.2030467174           815              823   \n",
      "18         0.1017108102     0.1522423413           783              855   \n",
      "19         0.0505659405     0.1016990355           833              805   \n",
      "20         0.0000898434     0.0504974702           844              795   \n",
      "\n",
      "       Target Density NonTarget Density Target CDF NonTarget CDF  KS Stat  \n",
      "Decile                                                                     \n",
      "1               4.83%             5.17%      4.83%         5.17%     -0.3  \n",
      "2               5.08%             4.92%      9.92%        10.08%     -0.2  \n",
      "3               5.02%             4.98%     14.94%        15.06%     -0.1  \n",
      "4               5.14%             4.86%     20.08%        19.92%      0.2  \n",
      "5               4.94%             5.06%     25.02%        24.98%      0.0  \n",
      "6               4.87%             5.13%     29.89%        30.11%     -0.2  \n",
      "7               5.06%             4.94%     34.95%        35.05%     -0.1  \n",
      "8               5.05%             4.95%     40.00%        39.99%      0.0  \n",
      "9               4.73%             5.26%     44.74%        45.26%     -0.5  \n",
      "10              5.05%             4.95%     49.79%        50.21%     -0.4  \n",
      "11              5.14%             4.86%     54.92%        55.07%     -0.1  \n",
      "12              4.93%             5.07%     59.86%        60.14%     -0.3  \n",
      "13              5.16%             4.84%     65.02%        64.98%      0.0  \n",
      "14              5.02%             4.98%     70.04%        69.95%      0.1  \n",
      "15              4.94%             5.06%     74.98%        75.02%     -0.0  \n",
      "16              4.94%             5.06%     79.92%        80.08%     -0.2  \n",
      "17              5.00%             5.00%     84.91%        85.08%     -0.2  \n",
      "18              4.80%             5.20%     89.72%        90.28%     -0.6  \n",
      "19              5.11%             4.89%     94.82%        95.17%     -0.3  \n",
      "20              5.18%             4.83%    100.00%       100.00%      0.0  \n"
     ]
    }
   ],
   "source": [
    "#Train\n",
    "random.seed(1234)\n",
    "Xtrain=train.copy()\n",
    "p=[]\n",
    "for i in range(len(Xtrain)):\n",
    "    x=random.random()\n",
    "    p.append(x)\n",
    "Xtrain.insert(len(Xtrain.columns),'p',p,True)\n",
    "ksTrain = ks(data=Xtrain,target=\"DEFAULT\", prob=\"p\")"
   ]
  },
  {
   "cell_type": "code",
   "execution_count": 117,
   "id": "75a92e8e",
   "metadata": {
    "scrolled": false
   },
   "outputs": [
    {
     "name": "stdout",
     "output_type": "stream",
     "text": [
      "        Min Probability  Max Probability  Target (Y=1)  NonTarget (Y=0)  \\\n",
      "Decile                                                                    \n",
      "1          0.9505914778     0.9999942593           238              228   \n",
      "2          0.9015608863     0.9504701133           250              216   \n",
      "3          0.8520378065     0.9015482225           257              208   \n",
      "4          0.8045711001     0.8519676713           229              237   \n",
      "5          0.7548530420     0.8044888762           246              219   \n",
      "6          0.7028751440     0.7547876976           229              237   \n",
      "7          0.6538050114     0.7028245422           232              234   \n",
      "8          0.5992360128     0.6536516144           253              212   \n",
      "9          0.5518550654     0.5992143973           229              237   \n",
      "10         0.5042036121     0.5518159735           225              240   \n",
      "11         0.4519771727     0.5041919775           237              229   \n",
      "12         0.4004429624     0.4516799805           238              228   \n",
      "13         0.3511660302     0.4002279374           244              221   \n",
      "14         0.3011859554     0.3510621551           234              232   \n",
      "15         0.2516117475     0.3010341862           218              247   \n",
      "16         0.2019142451     0.2515458972           260              206   \n",
      "17         0.1525573308     0.2017836858           223              243   \n",
      "18         0.1033924486     0.1524711434           235              230   \n",
      "19         0.0488201852     0.1033677870           237              229   \n",
      "20         0.0000250219     0.0486751899           233              233   \n",
      "\n",
      "       Target Density NonTarget Density Target CDF NonTarget CDF  KS Stat  \n",
      "Decile                                                                     \n",
      "1               5.01%             4.99%      5.01%         4.99%      0.0  \n",
      "2               5.27%             4.73%     10.28%         9.72%      0.6  \n",
      "3               5.41%             4.56%     15.69%        14.28%      1.4  \n",
      "4               4.82%             5.19%     20.52%        19.47%      1.0  \n",
      "5               5.18%             4.80%     25.70%        24.27%      1.4  \n",
      "6               4.82%             5.19%     30.52%        29.46%      1.1  \n",
      "7               4.89%             5.12%     35.41%        34.58%      0.8  \n",
      "8               5.33%             4.64%     40.74%        39.22%      1.5  \n",
      "9               4.82%             5.19%     45.57%        44.42%      1.2  \n",
      "10              4.74%             5.26%     50.31%        49.67%      0.6  \n",
      "11              4.99%             5.02%     55.30%        54.69%      0.6  \n",
      "12              5.01%             4.99%     60.31%        59.68%      0.6  \n",
      "13              5.14%             4.84%     65.45%        64.52%      0.9  \n",
      "14              4.93%             5.08%     70.38%        69.60%      0.8  \n",
      "15              4.59%             5.41%     74.97%        75.01%     -0.0  \n",
      "16              5.48%             4.51%     80.45%        79.52%      0.9  \n",
      "17              4.70%             5.32%     85.15%        84.84%      0.3  \n",
      "18              4.95%             5.04%     90.10%        89.88%      0.2  \n",
      "19              4.99%             5.02%     95.09%        94.90%      0.2  \n",
      "20              4.91%             5.10%    100.00%       100.00%      0.0  \n"
     ]
    }
   ],
   "source": [
    "# Test\n",
    "random.seed(4321)\n",
    "Xtest=test.copy()\n",
    "p=[]\n",
    "for i in range(len(Xtest)):\n",
    "    x=random.random()\n",
    "    p.append(x)\n",
    "Xtest.insert(len(Xtest.columns),'p',p,True)\n",
    "ksTest = ks(data=Xtest,target=\"DEFAULT\", prob=\"p\")"
   ]
  },
  {
   "cell_type": "code",
   "execution_count": 118,
   "id": "05c944c1",
   "metadata": {},
   "outputs": [
    {
     "name": "stdout",
     "output_type": "stream",
     "text": [
      "        Min Probability  Max Probability  Target (Y=1)  NonTarget (Y=0)  \\\n",
      "Decile                                                                    \n",
      "1          0.9474526255     0.9995587742           117              116   \n",
      "2          0.9000084976     0.9469475572           120              113   \n",
      "3          0.8453004675     0.8994881972           107              125   \n",
      "4          0.7960682162     0.8451438468           100              133   \n",
      "5          0.7468586262     0.7958003573           113              120   \n",
      "6          0.6983498294     0.7466659608           108              124   \n",
      "7          0.6442407422     0.6979084678           102              131   \n",
      "8          0.5931301272     0.6442112179           105              128   \n",
      "9          0.5437000121     0.5929811184           113              119   \n",
      "10         0.4879115845     0.5434135806           128              105   \n",
      "11         0.4380981244     0.4875268438           107              126   \n",
      "12         0.3884903523     0.4372214061           136               96   \n",
      "13         0.3471560891     0.3884328293           118              115   \n",
      "14         0.2948659845     0.3468506203           125              108   \n",
      "15         0.2463905132     0.2948638322           116              116   \n",
      "16         0.1958082358     0.2462937693           115              118   \n",
      "17         0.1460492303     0.1956265402           109              124   \n",
      "18         0.0973138195     0.1459704936           125              107   \n",
      "19         0.0495392497     0.0972422582           133              100   \n",
      "20         0.0000778004     0.0495010013           114              119   \n",
      "\n",
      "       Target Density NonTarget Density Target CDF NonTarget CDF  KS Stat  \n",
      "Decile                                                                     \n",
      "1               5.06%             4.95%      5.06%         4.95%      0.1  \n",
      "2               5.19%             4.82%     10.26%         9.77%      0.5  \n",
      "3               4.63%             5.34%     14.89%        15.11%     -0.2  \n",
      "4               4.33%             5.68%     19.21%        20.79%     -1.6  \n",
      "5               4.89%             5.12%     24.10%        25.91%     -1.8  \n",
      "6               4.67%             5.29%     28.78%        31.20%     -2.4  \n",
      "7               4.41%             5.59%     33.19%        36.79%     -3.6  \n",
      "8               4.54%             5.46%     37.73%        42.25%     -4.5  \n",
      "9               4.89%             5.08%     42.62%        47.33%     -4.7  \n",
      "10              5.54%             4.48%     48.16%        51.81%     -3.7  \n",
      "11              4.63%             5.38%     52.79%        57.19%     -4.4  \n",
      "12              5.88%             4.10%     58.68%        61.29%     -2.6  \n",
      "13              5.11%             4.91%     63.78%        66.20%     -2.4  \n",
      "14              5.41%             4.61%     69.19%        70.81%     -1.6  \n",
      "15              5.02%             4.95%     74.21%        75.76%     -1.5  \n",
      "16              4.98%             5.04%     79.19%        80.79%     -1.6  \n",
      "17              4.72%             5.29%     83.90%        86.09%     -2.2  \n",
      "18              5.41%             4.57%     89.31%        90.65%     -1.3  \n",
      "19              5.76%             4.27%     95.07%        94.92%      0.1  \n",
      "20              4.93%             5.08%    100.00%       100.00%     -0.0  \n"
     ]
    }
   ],
   "source": [
    "# Validate\n",
    "random.seed(2314)\n",
    "Xval=validate.copy()\n",
    "p=[]\n",
    "for i in range(len(Xval)):\n",
    "    x=random.random()\n",
    "    p.append(x)\n",
    "Xval.insert(len(Xval.columns),'p',p,True)\n",
    "ksVal = ks(data=Xval,target=\"DEFAULT\", prob=\"p\")"
   ]
  }
 ],
 "metadata": {
  "kernelspec": {
   "display_name": "Python 3 (ipykernel)",
   "language": "python",
   "name": "python3"
  },
  "language_info": {
   "codemirror_mode": {
    "name": "ipython",
    "version": 3
   },
   "file_extension": ".py",
   "mimetype": "text/x-python",
   "name": "python",
   "nbconvert_exporter": "python",
   "pygments_lexer": "ipython3",
   "version": "3.9.7"
  }
 },
 "nbformat": 4,
 "nbformat_minor": 5
}
